{
 "cells": [
  {
   "cell_type": "code",
   "execution_count": 1,
   "metadata": {},
   "outputs": [],
   "source": [
    "import pandas as pd\n",
    "import helium as hell\n",
    "import requests\n",
    "import time"
   ]
  },
  {
   "cell_type": "code",
   "execution_count": 2,
   "metadata": {},
   "outputs": [],
   "source": [
    "df=pd.read_html('https://twiki.cern.ch/twiki/bin/view/AtlasPublic/Publications')"
   ]
  },
  {
   "cell_type": "code",
   "execution_count": 3,
   "metadata": {},
   "outputs": [
    {
     "data": {
      "text/html": [
       "<div>\n",
       "<style scoped>\n",
       "    .dataframe tbody tr th:only-of-type {\n",
       "        vertical-align: middle;\n",
       "    }\n",
       "\n",
       "    .dataframe tbody tr th {\n",
       "        vertical-align: top;\n",
       "    }\n",
       "\n",
       "    .dataframe thead th {\n",
       "        text-align: right;\n",
       "    }\n",
       "</style>\n",
       "<table border=\"1\" class=\"dataframe\">\n",
       "  <thead>\n",
       "    <tr style=\"text-align: right;\">\n",
       "      <th></th>\n",
       "      <th>Short Title</th>\n",
       "      <th>Group</th>\n",
       "      <th>Journal reference</th>\n",
       "      <th>Submitted on</th>\n",
       "      <th>√s (TeV)</th>\n",
       "      <th>L</th>\n",
       "      <th>Links</th>\n",
       "    </tr>\n",
       "  </thead>\n",
       "  <tbody>\n",
       "    <tr>\n",
       "      <th>0</th>\n",
       "      <td>Lepton Flavor Violating Z Decay with a Leptoni...</td>\n",
       "      <td>EXOT</td>\n",
       "      <td>Submitted to PRL</td>\n",
       "      <td>26-MAY-21</td>\n",
       "      <td>13</td>\n",
       "      <td>139 fb-1</td>\n",
       "      <td>Documents | Internal</td>\n",
       "    </tr>\n",
       "    <tr>\n",
       "      <th>1</th>\n",
       "      <td>Performance of ATLAS topological trigger Full ...</td>\n",
       "      <td>TRIG</td>\n",
       "      <td>Submitted to EPJC</td>\n",
       "      <td>04-MAY-21</td>\n",
       "      <td>13</td>\n",
       "      <td>139 fb-1</td>\n",
       "      <td>Documents | 2105.01416 | Internal</td>\n",
       "    </tr>\n",
       "    <tr>\n",
       "      <th>2</th>\n",
       "      <td>Search for H(125) --&gt; gamma gamma + Missing-ET...</td>\n",
       "      <td>HIGG</td>\n",
       "      <td>Submitted to JHEP</td>\n",
       "      <td>27-APR-21</td>\n",
       "      <td>13</td>\n",
       "      <td>139 fb-1</td>\n",
       "      <td>Documents | 2104.13240 | Internal</td>\n",
       "    </tr>\n",
       "    <tr>\n",
       "      <th>3</th>\n",
       "      <td>Search for stopped long-lived particles decayi...</td>\n",
       "      <td>SUSY</td>\n",
       "      <td>Submitted to JHEP</td>\n",
       "      <td>07-APR-21</td>\n",
       "      <td>13</td>\n",
       "      <td>111 fb-1</td>\n",
       "      <td>Documents | 2104.03050Briefing | Internal</td>\n",
       "    </tr>\n",
       "    <tr>\n",
       "      <th>4</th>\n",
       "      <td>Measurement of ttZ cross sections in Run 2Full...</td>\n",
       "      <td>TOPQ</td>\n",
       "      <td>Submitted to EPJC</td>\n",
       "      <td>23-MAR-21</td>\n",
       "      <td>13</td>\n",
       "      <td>139 fb-1</td>\n",
       "      <td>Documents | 2103.12603 | Inspire HepData | Int...</td>\n",
       "    </tr>\n",
       "    <tr>\n",
       "      <th>...</th>\n",
       "      <td>...</td>\n",
       "      <td>...</td>\n",
       "      <td>...</td>\n",
       "      <td>...</td>\n",
       "      <td>...</td>\n",
       "      <td>...</td>\n",
       "      <td>...</td>\n",
       "    </tr>\n",
       "    <tr>\n",
       "      <th>998</th>\n",
       "      <td>ATLAS inner detector readinessFull Title:Keywo...</td>\n",
       "      <td>IDET</td>\n",
       "      <td>Eur. Phys. J. C 70 (2010) 787</td>\n",
       "      <td>26-APR-10</td>\n",
       "      <td>0.9</td>\n",
       "      <td>0 μb-1</td>\n",
       "      <td>Documents | 1004.5293 | Inspire | Internal</td>\n",
       "    </tr>\n",
       "    <tr>\n",
       "      <th>999</th>\n",
       "      <td>Charged-particle multiplicities at 900 GevFull...</td>\n",
       "      <td>STDM</td>\n",
       "      <td>Phys. Lett. B 688 (2010) 21</td>\n",
       "      <td>16-MAR-10</td>\n",
       "      <td>0.9</td>\n",
       "      <td>9 μb-1</td>\n",
       "      <td>Documents | 1003.3124 | Inspire Rivet | HepDat...</td>\n",
       "    </tr>\n",
       "    <tr>\n",
       "      <th>1000</th>\n",
       "      <td>LAr drift timeFull Title:Keywords:Liquid-argon...</td>\n",
       "      <td>LARG</td>\n",
       "      <td>Eur. Phys. J. C 70 (2010) 755</td>\n",
       "      <td>22-FEB-10</td>\n",
       "      <td>0.9</td>\n",
       "      <td>0 μb-1</td>\n",
       "      <td>Documents | 1002.4189 | Inspire | Internal</td>\n",
       "    </tr>\n",
       "    <tr>\n",
       "      <th>1001</th>\n",
       "      <td>LAr readinessFull Title:Keywords:Liquid-argon ...</td>\n",
       "      <td>LARG</td>\n",
       "      <td>Eur. Phys. J. C 70 (2010) 723</td>\n",
       "      <td>14-DEC-09</td>\n",
       "      <td>0.9</td>\n",
       "      <td>0 μb-1</td>\n",
       "      <td>Documents | 0912.2642 | Inspire | Internal</td>\n",
       "    </tr>\n",
       "    <tr>\n",
       "      <th>1002</th>\n",
       "      <td>ATLAS Detector PaperFull Title:The ATLAS Exper...</td>\n",
       "      <td>PERF</td>\n",
       "      <td>JINST 3 (2008) S08003</td>\n",
       "      <td>24-DEC-07</td>\n",
       "      <td>0.9</td>\n",
       "      <td>0 μb-1</td>\n",
       "      <td>Documents | Inspire | Internal</td>\n",
       "    </tr>\n",
       "  </tbody>\n",
       "</table>\n",
       "<p>1003 rows × 7 columns</p>\n",
       "</div>"
      ],
      "text/plain": [
       "                                            Short Title Group  \\\n",
       "0     Lepton Flavor Violating Z Decay with a Leptoni...  EXOT   \n",
       "1     Performance of ATLAS topological trigger Full ...  TRIG   \n",
       "2     Search for H(125) --> gamma gamma + Missing-ET...  HIGG   \n",
       "3     Search for stopped long-lived particles decayi...  SUSY   \n",
       "4     Measurement of ttZ cross sections in Run 2Full...  TOPQ   \n",
       "...                                                 ...   ...   \n",
       "998   ATLAS inner detector readinessFull Title:Keywo...  IDET   \n",
       "999   Charged-particle multiplicities at 900 GevFull...  STDM   \n",
       "1000  LAr drift timeFull Title:Keywords:Liquid-argon...  LARG   \n",
       "1001  LAr readinessFull Title:Keywords:Liquid-argon ...  LARG   \n",
       "1002  ATLAS Detector PaperFull Title:The ATLAS Exper...  PERF   \n",
       "\n",
       "                  Journal reference Submitted on √s (TeV)         L  \\\n",
       "0                  Submitted to PRL    26-MAY-21       13  139 fb-1   \n",
       "1                 Submitted to EPJC    04-MAY-21       13  139 fb-1   \n",
       "2                 Submitted to JHEP    27-APR-21       13  139 fb-1   \n",
       "3                 Submitted to JHEP    07-APR-21       13  111 fb-1   \n",
       "4                 Submitted to EPJC    23-MAR-21       13  139 fb-1   \n",
       "...                             ...          ...      ...       ...   \n",
       "998   Eur. Phys. J. C 70 (2010) 787    26-APR-10      0.9    0 μb-1   \n",
       "999     Phys. Lett. B 688 (2010) 21    16-MAR-10      0.9    9 μb-1   \n",
       "1000  Eur. Phys. J. C 70 (2010) 755    22-FEB-10      0.9    0 μb-1   \n",
       "1001  Eur. Phys. J. C 70 (2010) 723    14-DEC-09      0.9    0 μb-1   \n",
       "1002          JINST 3 (2008) S08003    24-DEC-07      0.9    0 μb-1   \n",
       "\n",
       "                                                  Links  \n",
       "0                                  Documents | Internal  \n",
       "1                     Documents | 2105.01416 | Internal  \n",
       "2                     Documents | 2104.13240 | Internal  \n",
       "3             Documents | 2104.03050Briefing | Internal  \n",
       "4     Documents | 2103.12603 | Inspire HepData | Int...  \n",
       "...                                                 ...  \n",
       "998          Documents | 1004.5293 | Inspire | Internal  \n",
       "999   Documents | 1003.3124 | Inspire Rivet | HepDat...  \n",
       "1000         Documents | 1002.4189 | Inspire | Internal  \n",
       "1001         Documents | 0912.2642 | Inspire | Internal  \n",
       "1002                     Documents | Inspire | Internal  \n",
       "\n",
       "[1003 rows x 7 columns]"
      ]
     },
     "execution_count": 3,
     "metadata": {},
     "output_type": "execute_result"
    }
   ],
   "source": [
    "df[0]"
   ]
  },
  {
   "cell_type": "code",
   "execution_count": 4,
   "metadata": {},
   "outputs": [],
   "source": [
    "browser=hell.start_firefox()\n",
    "browser.get('https://twiki.cern.ch/twiki/bin/view/AtlasPublic/Publications')"
   ]
  },
  {
   "cell_type": "code",
   "execution_count": 5,
   "metadata": {},
   "outputs": [],
   "source": [
    "t=browser.find_elements_by_tag_name('tbody')\n",
    "tr=t[0].find_elements_by_tag_name('tr')\n",
    "k=[h.text.strip() for h in tr[0].find_elements_by_tag_name('th')]"
   ]
  },
  {
   "cell_type": "code",
   "execution_count": 12,
   "metadata": {},
   "outputs": [
    {
     "name": "stdout",
     "output_type": "stream",
     "text": [
      "1003\r"
     ]
    }
   ],
   "source": [
    "atl=pd.DataFrame()\n",
    "\n",
    "for i in range(1, len(tr)):\n",
    "    print(i,end='\\r')\n",
    "\n",
    "    time.sleep(0.5)\n",
    "    row={}\n",
    "     \n",
    "    #get row values\n",
    "    td=tr[i].find_elements_by_tag_name('td')\n",
    "\n",
    "    # build row dictionary\n",
    "    for j in range(len(td)):\n",
    "        row[k[j]]=td[j].text\n",
    "\n",
    "    #Add inspire API info\n",
    "    if row.get('Links').find('Inspire')>-1:\n",
    "        insp=td[6].find_element_by_link_text('Inspire')\n",
    "    else:\n",
    "        atl=atl.append(row,ignore_index=True)\n",
    "        continue\n",
    "\n",
    "    l=insp.get_attribute('href').replace('record','api/literature')\n",
    "    row['inspire_id']=l.split('/')[-1]\n",
    "\n",
    "    r=requests.get(l)\n",
    "\n",
    "    if r.status_code!=200:\n",
    "            atl=atl.append(row,ignore_index=True)\n",
    "            continue\n",
    "\n",
    "    try:\n",
    "        row['title']=r.json().get('metadata').get('titles')[0].get('title')\n",
    "    except:\n",
    "        row['abstract']=''    \n",
    "    try:\n",
    "        row['abstract']=r.json().get('metadata').get('abstracts')[0].get('value')\n",
    "    except:\n",
    "        row['abstract']=''\n",
    "    try:\n",
    "        row['keywords']=[d.get('value') for d in r.json().get('metadata').get('keywords') \n",
    "                              if d.get('schema')=='INSPIRE' ]\n",
    "    except:\n",
    "        row['keywords']=[]\n",
    "    try:\n",
    "        row['doi']=r.json().get('metadata').get('dois')[0].get('value')\n",
    "    except:\n",
    "        row['doi']=''\n",
    "    atl=atl.append(row,ignore_index=True)"
   ]
  },
  {
   "cell_type": "code",
   "execution_count": 13,
   "metadata": {},
   "outputs": [
    {
     "data": {
      "text/plain": [
       "Index(['Group', 'Journal reference', 'L', 'Links', 'Short Title',\n",
       "       'Submitted on', '√s (TeV)', 'abstract', 'doi', 'inspire_id', 'keywords',\n",
       "       'title'],\n",
       "      dtype='object')"
      ]
     },
     "execution_count": 13,
     "metadata": {},
     "output_type": "execute_result"
    }
   ],
   "source": [
    "atl.columns"
   ]
  },
  {
   "cell_type": "code",
   "execution_count": 16,
   "metadata": {},
   "outputs": [
    {
     "data": {
      "text/plain": [
       "(998,)"
      ]
     },
     "execution_count": 16,
     "metadata": {},
     "output_type": "execute_result"
    }
   ],
   "source": [
    "atl['inspire_id'].dropna().shape"
   ]
  },
  {
   "cell_type": "code",
   "execution_count": 17,
   "metadata": {},
   "outputs": [
    {
     "data": {
      "text/plain": [
       "(1003, 12)"
      ]
     },
     "execution_count": 17,
     "metadata": {},
     "output_type": "execute_result"
    }
   ],
   "source": [
    "atl=atl[['Short Title','Group', 'Journal reference','doi', 'Submitted on',  'L', '√s (TeV)', 'Links', 'inspire_id',\n",
    "      'title', 'keywords', 'abstract' ]]\n",
    "atl.shape"
   ]
  },
  {
   "cell_type": "code",
   "execution_count": 21,
   "metadata": {},
   "outputs": [],
   "source": [
    "atl=atl.fillna('')"
   ]
  },
  {
   "cell_type": "code",
   "execution_count": 22,
   "metadata": {},
   "outputs": [],
   "source": [
    "atl.to_json('atlas_pub.json',orient='records')\n",
    "atl.to_csv('atlas_pub.csv',index=False)"
   ]
  },
  {
   "cell_type": "code",
   "execution_count": 25,
   "metadata": {},
   "outputs": [
    {
     "data": {
      "text/plain": [
       "(997, 12)"
      ]
     },
     "execution_count": 25,
     "metadata": {},
     "output_type": "execute_result"
    }
   ],
   "source": [
    "atl[atl['title']!=''].shape"
   ]
  },
  {
   "cell_type": "code",
   "execution_count": null,
   "metadata": {},
   "outputs": [],
   "source": [
    "1+1"
   ]
  },
  {
   "cell_type": "code",
   "execution_count": null,
   "metadata": {},
   "outputs": [],
   "source": []
  }
 ],
 "metadata": {
  "kernelspec": {
   "display_name": "Python 3.7.3 64-bit",
   "language": "python",
   "name": "python37364bit591a8e126f45470fa6b3d5fae1e6c234"
  },
  "language_info": {
   "codemirror_mode": {
    "name": "ipython",
    "version": 3
   },
   "file_extension": ".py",
   "mimetype": "text/x-python",
   "name": "python",
   "nbconvert_exporter": "python",
   "pygments_lexer": "ipython3",
   "version": "3.7.3"
  }
 },
 "nbformat": 4,
 "nbformat_minor": 4
}

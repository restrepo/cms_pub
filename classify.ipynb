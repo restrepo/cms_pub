{
 "cells": [
  {
   "cell_type": "markdown",
   "metadata": {
    "colab_type": "text",
    "id": "view-in-github"
   },
   "source": [
    "<a href=\"https://colab.research.google.com/github/restrepo/cms_pub/blob/main/classify.ipynb\" target=\"_parent\"><img src=\"https://colab.research.google.com/assets/colab-badge.svg\" alt=\"Open In Colab\"/></a>"
   ]
  },
  {
   "cell_type": "markdown",
   "metadata": {
    "id": "n0Iz4OvjeUXx"
   },
   "source": [
    "# Machine learning classifier for CMS publications\n",
    "We use the CMS publications with the manually defined categories at:\n",
    "\n",
    "https://cms-results.web.cern.ch/cms-results/public-results/publications/\n",
    "\n",
    "to predict the category of a new CMS publication.\n",
    "\n",
    "We will follow the `NaiveBayesClassifier` tutorial from `textblob` at:\n",
    "\n",
    "https://textblob.readthedocs.io/en/dev/classifiers.html#classifiers"
   ]
  },
  {
   "cell_type": "code",
   "execution_count": 2,
   "metadata": {
    "colab": {
     "base_uri": "https://localhost:8080/"
    },
    "id": "lTSDtWHMeUX0",
    "outputId": "048ba71b-071f-414e-f3fd-b9b2f72edbc1"
   },
   "outputs": [
    {
     "name": "stderr",
     "output_type": "stream",
     "text": [
      "[nltk_data] Downloading package stopwords to\n",
      "[nltk_data]     /home/restrepo/nltk_data...\n",
      "[nltk_data]   Package stopwords is already up-to-date!\n",
      "[nltk_data] Downloading package punkt to /home/restrepo/nltk_data...\n",
      "[nltk_data]   Package punkt is already up-to-date!\n"
     ]
    },
    {
     "data": {
      "text/plain": [
       "True"
      ]
     },
     "execution_count": 2,
     "metadata": {},
     "output_type": "execute_result"
    }
   ],
   "source": [
    "import pandas as pd\n",
    "import nltk\n",
    "from nltk.corpus import stopwords\n",
    "nltk.download('stopwords')\n",
    "from textblob.classifiers import NaiveBayesClassifier\n",
    "nltk.download('punkt')  "
   ]
  },
  {
   "cell_type": "markdown",
   "metadata": {
    "id": "njauBURneUX1"
   },
   "source": [
    "Load the data and prepare the training data set based in the title+abstract of each publication and the assigned category: `'CTG'`"
   ]
  },
  {
   "cell_type": "code",
   "execution_count": 3,
   "metadata": {
    "id": "NHUgUZUfeUX2"
   },
   "outputs": [],
   "source": [
    "df=pd.read_json('https://raw.githubusercontent.com/restrepo/cms_pub/main/cms.json')"
   ]
  },
  {
   "cell_type": "markdown",
   "metadata": {
    "id": "1lS-b4CxeUX2"
   },
   "source": [
    "Sample of the data"
   ]
  },
  {
   "cell_type": "code",
   "execution_count": 4,
   "metadata": {
    "colab": {
     "base_uri": "https://localhost:8080/",
     "height": 145
    },
    "id": "BnDB2Bi5eUX2",
    "outputId": "6e87efd6-4849-452b-b652-8e8926c5caa8"
   },
   "outputs": [
    {
     "data": {
      "text/html": [
       "<div>\n",
       "<style scoped>\n",
       "    .dataframe tbody tr th:only-of-type {\n",
       "        vertical-align: middle;\n",
       "    }\n",
       "\n",
       "    .dataframe tbody tr th {\n",
       "        vertical-align: top;\n",
       "    }\n",
       "\n",
       "    .dataframe thead th {\n",
       "        text-align: right;\n",
       "    }\n",
       "</style>\n",
       "<table border=\"1\" class=\"dataframe\">\n",
       "  <thead>\n",
       "    <tr style=\"text-align: right;\">\n",
       "      <th></th>\n",
       "      <th>CMS_id</th>\n",
       "      <th>report</th>\n",
       "      <th>title</th>\n",
       "      <th>journal</th>\n",
       "      <th>date</th>\n",
       "      <th>CTG</th>\n",
       "      <th>category</th>\n",
       "      <th>inspire_id</th>\n",
       "      <th>abstract</th>\n",
       "      <th>keywords</th>\n",
       "      <th>doi</th>\n",
       "      <th>MA_topics</th>\n",
       "    </tr>\n",
       "  </thead>\n",
       "  <tbody>\n",
       "    <tr>\n",
       "      <th>0</th>\n",
       "      <td>58</td>\n",
       "      <td>FSQ-16-006</td>\n",
       "      <td>Study of central exclusive $\\pi^{+}\\pi^{-}$ pr...</td>\n",
       "      <td>EPJC 80 (2020) 718</td>\n",
       "      <td>2020-03-05</td>\n",
       "      <td>FSQ</td>\n",
       "      <td>Forward and Small-x QCD Physics</td>\n",
       "      <td>1784063</td>\n",
       "      <td>Central exclusive and semiexclusive production...</td>\n",
       "      <td>[p p: scattering, p p: colliding beams, pi: pa...</td>\n",
       "      <td>10.1140/epjc/s10052-020-8166-5</td>\n",
       "      <td>[Rapidity, Physics, Invariant mass, Nuclear ph...</td>\n",
       "    </tr>\n",
       "    <tr>\n",
       "      <th>1</th>\n",
       "      <td>57</td>\n",
       "      <td>FSQ-12-033</td>\n",
       "      <td>Measurement of single-diffractive dijet produc...</td>\n",
       "      <td>EPJC 80, 1164 (2020)</td>\n",
       "      <td>2020-02-27</td>\n",
       "      <td>FSQ</td>\n",
       "      <td>Forward and Small-x QCD Physics</td>\n",
       "      <td>1782637</td>\n",
       "      <td>Measurements are presented of the single-diffr...</td>\n",
       "      <td>[p p: colliding beams, parton: distribution fu...</td>\n",
       "      <td>10.1140/epjc/s10052-020-08562-y</td>\n",
       "      <td>None</td>\n",
       "    </tr>\n",
       "  </tbody>\n",
       "</table>\n",
       "</div>"
      ],
      "text/plain": [
       "   CMS_id      report                                              title  \\\n",
       "0      58  FSQ-16-006  Study of central exclusive $\\pi^{+}\\pi^{-}$ pr...   \n",
       "1      57  FSQ-12-033  Measurement of single-diffractive dijet produc...   \n",
       "\n",
       "                journal       date  CTG                         category  \\\n",
       "0    EPJC 80 (2020) 718 2020-03-05  FSQ  Forward and Small-x QCD Physics   \n",
       "1  EPJC 80, 1164 (2020) 2020-02-27  FSQ  Forward and Small-x QCD Physics   \n",
       "\n",
       "  inspire_id                                           abstract  \\\n",
       "0    1784063  Central exclusive and semiexclusive production...   \n",
       "1    1782637  Measurements are presented of the single-diffr...   \n",
       "\n",
       "                                            keywords  \\\n",
       "0  [p p: scattering, p p: colliding beams, pi: pa...   \n",
       "1  [p p: colliding beams, parton: distribution fu...   \n",
       "\n",
       "                               doi  \\\n",
       "0   10.1140/epjc/s10052-020-8166-5   \n",
       "1  10.1140/epjc/s10052-020-08562-y   \n",
       "\n",
       "                                           MA_topics  \n",
       "0  [Rapidity, Physics, Invariant mass, Nuclear ph...  \n",
       "1                                               None  "
      ]
     },
     "execution_count": 4,
     "metadata": {},
     "output_type": "execute_result"
    }
   ],
   "source": [
    "df[:2]"
   ]
  },
  {
   "cell_type": "code",
   "execution_count": 6,
   "metadata": {},
   "outputs": [
    {
     "data": {
      "text/plain": [
       "array(['FSQ', 'BPH', 'SMP', 'TOP', 'HIG', 'SUS', 'EXO', 'B2G', 'HIN'],\n",
       "      dtype=object)"
      ]
     },
     "execution_count": 6,
     "metadata": {},
     "output_type": "execute_result"
    }
   ],
   "source": [
    "df['CTG'].unique()"
   ]
  },
  {
   "cell_type": "markdown",
   "metadata": {
    "id": "uqqqhgu1eUX3"
   },
   "source": [
    "Prepare the data"
   ]
  },
  {
   "cell_type": "code",
   "execution_count": 7,
   "metadata": {
    "colab": {
     "base_uri": "https://localhost:8080/"
    },
    "id": "tw6_yj9ReUX3",
    "outputId": "c6df60b6-e9e6-4e6f-886e-63ff1e2be4ff"
   },
   "outputs": [
    {
     "name": "stdout",
     "output_type": "stream",
     "text": [
      "total publication count: 912\n"
     ]
    }
   ],
   "source": [
    "df=df[df['abstract'].fillna('')!=''].reset_index(drop=True)\n",
    "df['text']=df['title']+' '+df['abstract']\n",
    "df=df.rename({'CTG':'label'},axis='columns')\n",
    "\n",
    "stop_words=stopwords.words()\n",
    "def simplify(text,stop_words=stop_words):\n",
    "    text_tokens = text.replace(\"  \",\" \").split()\n",
    "    filtered_words = [w for w in text_tokens if not w in stop_words]    \n",
    "    return \" \".join(filtered_words).lower()\n",
    "\n",
    "df['text']=df['text'].apply(simplify)\n",
    "\n",
    "print('total publication count:',df.shape[0])"
   ]
  },
  {
   "cell_type": "code",
   "execution_count": 8,
   "metadata": {},
   "outputs": [
    {
     "data": {
      "text/plain": [
       "'study central exclusive $\\\\pi^{+}\\\\pi^{-}$ production proton-proton collisions $\\\\sqrt{s} = $ 5.02 13 tev central exclusive semiexclusive production pairs measured cms detector proton-proton collisions lhc center-of-mass energies 5.02 13tev. the theoretical description nonperturbative processes, yet measured detail lhc, poses significant challenge models. the two pions measured identified cms silicon tracker based specific energy loss, whereas absence particles ensured calorimeter information. the total differential cross sections exclusive semiexclusive central production measured functions invariant mass, transverse momentum, rapidity system fiducial region defined transverse momentum pseudorapidity . the production cross sections four resonant channels [inline-graphic available: see fulltext], , [inline-graphic available: see fulltext], [inline-graphic available: see fulltext]are extracted using simple model. these results represent first measurement process lhc collision energies 5.02 13tev.'"
      ]
     },
     "execution_count": 8,
     "metadata": {},
     "output_type": "execute_result"
    }
   ],
   "source": [
    "df.loc[0, 'text']"
   ]
  },
  {
   "cell_type": "markdown",
   "metadata": {
    "id": "Fmj6LmC0eUX4"
   },
   "source": [
    "shuffle the DataFrame"
   ]
  },
  {
   "cell_type": "code",
   "execution_count": 6,
   "metadata": {
    "id": "X_zLiNeYeUX4"
   },
   "outputs": [],
   "source": [
    "dfr=df.sample(df.shape[0])"
   ]
  },
  {
   "cell_type": "markdown",
   "metadata": {
    "id": "sYxC_JrxeUYA"
   },
   "source": [
    "Calculate the accuracy of the trained dataset, `train`, with the `test` one"
   ]
  },
  {
   "cell_type": "code",
   "execution_count": 7,
   "metadata": {
    "colab": {
     "base_uri": "https://localhost:8080/"
    },
    "id": "zhVu3iVfeUYB",
    "outputId": "fab4c405-a9d0-44c5-edc0-7996bef05e5c"
   },
   "outputs": [
    {
     "name": "stdout",
     "output_type": "stream",
     "text": [
      "accuracy →  0.81\n"
     ]
    }
   ],
   "source": [
    "n_train=800\n",
    "train=dfr[['text','label']][:n_train].reset_index(drop=True)\n",
    "test =dfr[['text','label']][n_train:].reset_index(drop=True)\n",
    "\n",
    "#Obtain the classifier with the `train` dataset\n",
    "cl = NaiveBayesClassifier(  \n",
    "    [ (d.get('text'),d.get('label')) for d in train.to_dict(orient='records')]  )\n",
    "\n",
    "# Check the accuracy of the classifier with the `test` dataset\n",
    "print('accuracy → ',\n",
    "      round( cl.accuracy( [ (d.get('text'),d.get('label')) for d in test.to_dict(orient='records')] ),2)\n",
    "     )"
   ]
  },
  {
   "cell_type": "markdown",
   "metadata": {
    "id": "mtfXbqs_eUYC"
   },
   "source": [
    "Partial accuracies: there are several at the 90% level. Those would correspond to well defined categories"
   ]
  },
  {
   "cell_type": "code",
   "execution_count": 8,
   "metadata": {
    "colab": {
     "base_uri": "https://localhost:8080/"
    },
    "id": "x3KpIModeUYC",
    "outputId": "d110448d-fe8e-4d7c-acb4-0671caf68d08"
   },
   "outputs": [
    {
     "name": "stdout",
     "output_type": "stream",
     "text": [
      "FSQ → 0.5  samples → 6\n",
      "SMP → 0.93  samples → 15\n",
      "SUS → 0.75  samples → 12\n",
      "EXO → 0.93  samples → 27\n",
      "TOP → 0.75  samples → 12\n",
      "HIN → 1.0  samples → 9\n",
      "HIG → 0.88  samples → 17\n",
      "BPH → 0.62  samples → 8\n",
      "B2G → 0.33  samples → 6\n"
     ]
    }
   ],
   "source": [
    "for c in test['label'].unique():\n",
    "    print(c,'→',\n",
    "          round(cl.accuracy( [ (d.get('text'),d.get('label')) for d in test[test['label']==c].to_dict(orient='records')]),2),\n",
    "          f\" samples → {test[test['label']==c].shape[0]}\")"
   ]
  },
  {
   "cell_type": "markdown",
   "metadata": {
    "id": "RArdEwjfeUYD"
   },
   "source": [
    "Check explicit results including the probability"
   ]
  },
  {
   "cell_type": "code",
   "execution_count": 9,
   "metadata": {
    "id": "KX2Q7QSNeUYD"
   },
   "outputs": [],
   "source": [
    "fulltest=test.copy()\n",
    "fulltest['test']=fulltest['text'].apply(cl.classify)\n",
    "\n",
    "fulltest['prob']=fulltest['text'].apply(lambda t:   \n",
    "                                cl.prob_classify( t ).prob(   cl.classify( t  )  ) ).round(2)"
   ]
  },
  {
   "cell_type": "markdown",
   "metadata": {
    "id": "Ze7SFyVEeUYD"
   },
   "source": [
    "Show the ones that failed.\n",
    "The following categories are expected to be mixed between them\n",
    "\n",
    "* `[B2G,EXO,SUS]`\n",
    "* `[HIG,TOP,SMP,FSQ]`\n",
    "\n",
    "In this way, the errors are easy to understand. \n",
    "\n",
    "__Hypothesis__: The network analysis would have this failed publications in the frontiers of the clusters."
   ]
  },
  {
   "cell_type": "code",
   "execution_count": 10,
   "metadata": {
    "colab": {
     "base_uri": "https://localhost:8080/",
     "height": 693
    },
    "id": "kMZ_ROrZeUYE",
    "outputId": "9cf48812-aebe-4fb5-bb96-dd71a06dd4e0"
   },
   "outputs": [
    {
     "data": {
      "text/html": [
       "<div>\n",
       "<style scoped>\n",
       "    .dataframe tbody tr th:only-of-type {\n",
       "        vertical-align: middle;\n",
       "    }\n",
       "\n",
       "    .dataframe tbody tr th {\n",
       "        vertical-align: top;\n",
       "    }\n",
       "\n",
       "    .dataframe thead th {\n",
       "        text-align: right;\n",
       "    }\n",
       "</style>\n",
       "<table border=\"1\" class=\"dataframe\">\n",
       "  <thead>\n",
       "    <tr style=\"text-align: right;\">\n",
       "      <th></th>\n",
       "      <th>text</th>\n",
       "      <th>label</th>\n",
       "      <th>test</th>\n",
       "      <th>prob</th>\n",
       "    </tr>\n",
       "  </thead>\n",
       "  <tbody>\n",
       "    <tr>\n",
       "      <th>0</th>\n",
       "      <td>exclusive semi-exclusive $\\pi^{+}\\pi^{-}$ prod...</td>\n",
       "      <td>FSQ</td>\n",
       "      <td>SMP</td>\n",
       "      <td>1.00</td>\n",
       "    </tr>\n",
       "    <tr>\n",
       "      <th>2</th>\n",
       "      <td>search dark matter supersymmetry compressed ma...</td>\n",
       "      <td>SUS</td>\n",
       "      <td>EXO</td>\n",
       "      <td>1.00</td>\n",
       "    </tr>\n",
       "    <tr>\n",
       "      <th>8</th>\n",
       "      <td>search anomalous single top quark production a...</td>\n",
       "      <td>TOP</td>\n",
       "      <td>EXO</td>\n",
       "      <td>1.00</td>\n",
       "    </tr>\n",
       "    <tr>\n",
       "      <th>9</th>\n",
       "      <td>observation diffractive contribution dijet pro...</td>\n",
       "      <td>FSQ</td>\n",
       "      <td>SMP</td>\n",
       "      <td>0.98</td>\n",
       "    </tr>\n",
       "    <tr>\n",
       "      <th>11</th>\n",
       "      <td>search massive resonance decaying higgs boson ...</td>\n",
       "      <td>EXO</td>\n",
       "      <td>B2G</td>\n",
       "      <td>1.00</td>\n",
       "    </tr>\n",
       "    <tr>\n",
       "      <th>12</th>\n",
       "      <td>study bose-einstein correlations pp, ppb, pbpb...</td>\n",
       "      <td>FSQ</td>\n",
       "      <td>HIN</td>\n",
       "      <td>1.00</td>\n",
       "    </tr>\n",
       "    <tr>\n",
       "      <th>18</th>\n",
       "      <td>search $s$ channel single top quark production...</td>\n",
       "      <td>TOP</td>\n",
       "      <td>HIG</td>\n",
       "      <td>0.98</td>\n",
       "    </tr>\n",
       "    <tr>\n",
       "      <th>19</th>\n",
       "      <td>measurement $ \\lambda_{\\mathrm{b}} $ polarizat...</td>\n",
       "      <td>BPH</td>\n",
       "      <td>SMP</td>\n",
       "      <td>0.57</td>\n",
       "    </tr>\n",
       "    <tr>\n",
       "      <th>21</th>\n",
       "      <td>combination searches heavy resonances decaying...</td>\n",
       "      <td>B2G</td>\n",
       "      <td>EXO</td>\n",
       "      <td>1.00</td>\n",
       "    </tr>\n",
       "    <tr>\n",
       "      <th>22</th>\n",
       "      <td>search $r$-parity violating supersymmetry disp...</td>\n",
       "      <td>SUS</td>\n",
       "      <td>EXO</td>\n",
       "      <td>1.00</td>\n",
       "    </tr>\n",
       "    <tr>\n",
       "      <th>24</th>\n",
       "      <td>search massive resonances dijet systems contai...</td>\n",
       "      <td>EXO</td>\n",
       "      <td>B2G</td>\n",
       "      <td>0.91</td>\n",
       "    </tr>\n",
       "    <tr>\n",
       "      <th>41</th>\n",
       "      <td>a deep neural network simultaneous estimation ...</td>\n",
       "      <td>HIG</td>\n",
       "      <td>TOP</td>\n",
       "      <td>0.97</td>\n",
       "    </tr>\n",
       "    <tr>\n",
       "      <th>43</th>\n",
       "      <td>constraints models scalar vector leptoquarks d...</td>\n",
       "      <td>SUS</td>\n",
       "      <td>EXO</td>\n",
       "      <td>1.00</td>\n",
       "    </tr>\n",
       "    <tr>\n",
       "      <th>54</th>\n",
       "      <td>measurement inclusive differential higgs boson...</td>\n",
       "      <td>HIG</td>\n",
       "      <td>SMP</td>\n",
       "      <td>1.00</td>\n",
       "    </tr>\n",
       "    <tr>\n",
       "      <th>66</th>\n",
       "      <td>search pair production excited top quarks lept...</td>\n",
       "      <td>B2G</td>\n",
       "      <td>EXO</td>\n",
       "      <td>1.00</td>\n",
       "    </tr>\n",
       "    <tr>\n",
       "      <th>67</th>\n",
       "      <td>measurement cross section production b b-bar x...</td>\n",
       "      <td>BPH</td>\n",
       "      <td>SMP</td>\n",
       "      <td>1.00</td>\n",
       "    </tr>\n",
       "    <tr>\n",
       "      <th>70</th>\n",
       "      <td>search $\\mathrm{ \\bar{t} }$ resonances highly-...</td>\n",
       "      <td>B2G</td>\n",
       "      <td>EXO</td>\n",
       "      <td>0.93</td>\n",
       "    </tr>\n",
       "    <tr>\n",
       "      <th>85</th>\n",
       "      <td>search monotop signatures proton-proton collis...</td>\n",
       "      <td>B2G</td>\n",
       "      <td>EXO</td>\n",
       "      <td>1.00</td>\n",
       "    </tr>\n",
       "    <tr>\n",
       "      <th>87</th>\n",
       "      <td>measurement $\\lambda_b^0$ lifetime pp collisio...</td>\n",
       "      <td>BPH</td>\n",
       "      <td>SMP</td>\n",
       "      <td>1.00</td>\n",
       "    </tr>\n",
       "    <tr>\n",
       "      <th>96</th>\n",
       "      <td>search anomalous electroweak production vector...</td>\n",
       "      <td>SMP</td>\n",
       "      <td>HIG</td>\n",
       "      <td>1.00</td>\n",
       "    </tr>\n",
       "    <tr>\n",
       "      <th>104</th>\n",
       "      <td>search flavor-changing neutral current interac...</td>\n",
       "      <td>TOP</td>\n",
       "      <td>HIG</td>\n",
       "      <td>1.00</td>\n",
       "    </tr>\n",
       "  </tbody>\n",
       "</table>\n",
       "</div>"
      ],
      "text/plain": [
       "                                                  text label test  prob\n",
       "0    exclusive semi-exclusive $\\pi^{+}\\pi^{-}$ prod...   FSQ  SMP  1.00\n",
       "2    search dark matter supersymmetry compressed ma...   SUS  EXO  1.00\n",
       "8    search anomalous single top quark production a...   TOP  EXO  1.00\n",
       "9    observation diffractive contribution dijet pro...   FSQ  SMP  0.98\n",
       "11   search massive resonance decaying higgs boson ...   EXO  B2G  1.00\n",
       "12   study bose-einstein correlations pp, ppb, pbpb...   FSQ  HIN  1.00\n",
       "18   search $s$ channel single top quark production...   TOP  HIG  0.98\n",
       "19   measurement $ \\lambda_{\\mathrm{b}} $ polarizat...   BPH  SMP  0.57\n",
       "21   combination searches heavy resonances decaying...   B2G  EXO  1.00\n",
       "22   search $r$-parity violating supersymmetry disp...   SUS  EXO  1.00\n",
       "24   search massive resonances dijet systems contai...   EXO  B2G  0.91\n",
       "41   a deep neural network simultaneous estimation ...   HIG  TOP  0.97\n",
       "43   constraints models scalar vector leptoquarks d...   SUS  EXO  1.00\n",
       "54   measurement inclusive differential higgs boson...   HIG  SMP  1.00\n",
       "66   search pair production excited top quarks lept...   B2G  EXO  1.00\n",
       "67   measurement cross section production b b-bar x...   BPH  SMP  1.00\n",
       "70   search $\\mathrm{ \\bar{t} }$ resonances highly-...   B2G  EXO  0.93\n",
       "85   search monotop signatures proton-proton collis...   B2G  EXO  1.00\n",
       "87   measurement $\\lambda_b^0$ lifetime pp collisio...   BPH  SMP  1.00\n",
       "96   search anomalous electroweak production vector...   SMP  HIG  1.00\n",
       "104  search flavor-changing neutral current interac...   TOP  HIG  1.00"
      ]
     },
     "execution_count": 10,
     "metadata": {
      "tags": []
     },
     "output_type": "execute_result"
    }
   ],
   "source": [
    "fulltest[fulltest['label']!=fulltest['test']]"
   ]
  },
  {
   "cell_type": "code",
   "execution_count": null,
   "metadata": {
    "id": "RjejdTS4fBD4"
   },
   "outputs": [],
   "source": []
  }
 ],
 "metadata": {
  "colab": {
   "include_colab_link": true,
   "name": "classiify.ipynb",
   "provenance": []
  },
  "kernelspec": {
   "display_name": "Python 3 (ipykernel)",
   "language": "python",
   "name": "python3"
  },
  "language_info": {
   "codemirror_mode": {
    "name": "ipython",
    "version": 3
   },
   "file_extension": ".py",
   "mimetype": "text/x-python",
   "name": "python",
   "nbconvert_exporter": "python",
   "pygments_lexer": "ipython3",
   "version": "3.7.3"
  }
 },
 "nbformat": 4,
 "nbformat_minor": 4
}

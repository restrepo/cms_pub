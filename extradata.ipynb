{
 "cells": [
  {
   "cell_type": "markdown",
   "metadata": {},
   "source": [
    "Use:\n",
    "* https://github.com/inspirehep/magpie from the inpirehep records\n",
    "* https://link.lens.org/ywt8QmB3gAh download\n",
    "* https://link.lens.org/uQjoEFwtx1j download\n",
    "See also: http://ai.stanford.edu/blog/introduction-to-knowledge-graphs/"
   ]
  },
  {
   "cell_type": "code",
   "execution_count": 2,
   "metadata": {},
   "outputs": [],
   "source": [
    "import pandas as pd\n",
    "import requests\n",
    "import time"
   ]
  },
  {
   "cell_type": "code",
   "execution_count": 25,
   "metadata": {},
   "outputs": [],
   "source": [
    "df=pd.read_json('https://raw.githubusercontent.com/restrepo/cms_pub/main/cms.json')"
   ]
  },
  {
   "cell_type": "code",
   "execution_count": 26,
   "metadata": {},
   "outputs": [],
   "source": [
    "#df=df.drop('MA_topics',axis='columns')"
   ]
  },
  {
   "cell_type": "markdown",
   "metadata": {},
   "source": [
    "* https://github.com/inspirehep/rest-api-doc\n",
    "\n",
    "In order to avoid overwhelming the server, we enforce rate limits per IP address: every IP address is allowed 50 requests, then at most 2 requests per second. If you exceed those limits, you will receive a response with HTTP status code 429 and a x-retry-in header telling you how long to wait before retrying."
   ]
  },
  {
   "cell_type": "code",
   "execution_count": 105,
   "metadata": {},
   "outputs": [
    {
     "data": {
      "text/plain": [
       "(739, '1388363')"
      ]
     },
     "execution_count": 105,
     "metadata": {},
     "output_type": "execute_result"
    }
   ],
   "source": [
    "i,df.loc[i,\"inspire_id\"]"
   ]
  },
  {
   "cell_type": "code",
   "execution_count": 106,
   "metadata": {},
   "outputs": [],
   "source": [
    "r=requests.get(f'https://inspirehep.net/api/literature/{df.loc[i,\"inspire_id\"]}')"
   ]
  },
  {
   "cell_type": "code",
   "execution_count": 4,
   "metadata": {},
   "outputs": [
    {
     "data": {
      "text/html": [
       "<div>\n",
       "<style scoped>\n",
       "    .dataframe tbody tr th:only-of-type {\n",
       "        vertical-align: middle;\n",
       "    }\n",
       "\n",
       "    .dataframe tbody tr th {\n",
       "        vertical-align: top;\n",
       "    }\n",
       "\n",
       "    .dataframe thead th {\n",
       "        text-align: right;\n",
       "    }\n",
       "</style>\n",
       "<table border=\"1\" class=\"dataframe\">\n",
       "  <thead>\n",
       "    <tr style=\"text-align: right;\">\n",
       "      <th></th>\n",
       "      <th>CMS_id</th>\n",
       "      <th>report</th>\n",
       "      <th>title</th>\n",
       "      <th>journal</th>\n",
       "      <th>date</th>\n",
       "      <th>CTG</th>\n",
       "      <th>category</th>\n",
       "      <th>inspire_id</th>\n",
       "      <th>abstract</th>\n",
       "      <th>keywords</th>\n",
       "      <th>doi</th>\n",
       "    </tr>\n",
       "  </thead>\n",
       "  <tbody>\n",
       "    <tr>\n",
       "      <th>739</th>\n",
       "      <td>92</td>\n",
       "      <td>EXO-12-011</td>\n",
       "      <td>Search for W' decaying to tau lepton and neutr...</td>\n",
       "      <td>PLB 755 (2016) 196</td>\n",
       "      <td>2015-08-18</td>\n",
       "      <td>EXO</td>\n",
       "      <td>Exotica</td>\n",
       "      <td>1388363</td>\n",
       "      <td>The first search for a heavy charged vector bo...</td>\n",
       "      <td>[p p: scattering, p p: colliding beams, W': se...</td>\n",
       "      <td>10.1016/j.physletb.2016.02.002</td>\n",
       "    </tr>\n",
       "    <tr>\n",
       "      <th>740</th>\n",
       "      <td>91</td>\n",
       "      <td>EXO-14-009</td>\n",
       "      <td>Search for a massive resonance decaying into a...</td>\n",
       "      <td>JHEP 02 (2016) 145</td>\n",
       "      <td>2015-06-04</td>\n",
       "      <td>EXO</td>\n",
       "      <td>Exotica</td>\n",
       "      <td>1374621</td>\n",
       "      <td>A search for a massive resonance decaying into...</td>\n",
       "      <td>[p p: scattering, p p: colliding beams, resona...</td>\n",
       "      <td>10.1007/JHEP02(2016)145</td>\n",
       "    </tr>\n",
       "    <tr>\n",
       "      <th>741</th>\n",
       "      <td>90</td>\n",
       "      <td>EXO-12-007</td>\n",
       "      <td>Search for neutral color-octet weak-triplet sc...</td>\n",
       "      <td>JHEP 09 (2015) 201</td>\n",
       "      <td>2015-05-29</td>\n",
       "      <td>EXO</td>\n",
       "      <td>Exotica</td>\n",
       "      <td>1373745</td>\n",
       "      <td>A search for pair production of neutral color-...</td>\n",
       "      <td>[p p: scattering, p p: colliding beams, jet: b...</td>\n",
       "      <td>10.1007/JHEP09(2015)201</td>\n",
       "    </tr>\n",
       "    <tr>\n",
       "      <th>742</th>\n",
       "      <td>89</td>\n",
       "      <td>EXO-14-008</td>\n",
       "      <td>Search for third-generation scalar leptoquarks...</td>\n",
       "      <td>JHEP 07 (2015) 042 [Err: JHEP 11 (2016) 056]</td>\n",
       "      <td>2015-03-31</td>\n",
       "      <td>EXO</td>\n",
       "      <td>Exotica</td>\n",
       "      <td>1357201</td>\n",
       "      <td>A search for pair production of third-generati...</td>\n",
       "      <td>[p p: colliding beams, family: 3, leptoquark: ...</td>\n",
       "      <td>10.1007/JHEP11(2016)056</td>\n",
       "    </tr>\n",
       "    <tr>\n",
       "      <th>743</th>\n",
       "      <td>88</td>\n",
       "      <td>EXO-13-007</td>\n",
       "      <td>Search for narrow high-mass resonances in prot...</td>\n",
       "      <td>PLB 748 (2015) 255</td>\n",
       "      <td>2015-02-17</td>\n",
       "      <td>EXO</td>\n",
       "      <td>Exotica</td>\n",
       "      <td>1345160</td>\n",
       "      <td>A search for a narrow, high-mass resonance dec...</td>\n",
       "      <td>[p p: colliding beams, narrow resonance, reson...</td>\n",
       "      <td>10.1016/j.physletb.2015.07.011</td>\n",
       "    </tr>\n",
       "    <tr>\n",
       "      <th>...</th>\n",
       "      <td>...</td>\n",
       "      <td>...</td>\n",
       "      <td>...</td>\n",
       "      <td>...</td>\n",
       "      <td>...</td>\n",
       "      <td>...</td>\n",
       "      <td>...</td>\n",
       "      <td>...</td>\n",
       "      <td>...</td>\n",
       "      <td>...</td>\n",
       "      <td>...</td>\n",
       "    </tr>\n",
       "    <tr>\n",
       "      <th>998</th>\n",
       "      <td>5</td>\n",
       "      <td>HIN-10-001</td>\n",
       "      <td>Dependence on pseudorapidity and on centrality...</td>\n",
       "      <td>JHEP 08 (2011) 141</td>\n",
       "      <td>2011-07-24</td>\n",
       "      <td>HIN</td>\n",
       "      <td>Heavy-Ion Physics</td>\n",
       "      <td></td>\n",
       "      <td>None</td>\n",
       "      <td></td>\n",
       "      <td>None</td>\n",
       "    </tr>\n",
       "    <tr>\n",
       "      <th>999</th>\n",
       "      <td>4</td>\n",
       "      <td>HIN-11-007</td>\n",
       "      <td>Indications of Suppression of Excited $\\Upsilo...</td>\n",
       "      <td>PRL 107 (2011) 052302</td>\n",
       "      <td>2011-05-26</td>\n",
       "      <td>HIN</td>\n",
       "      <td>Heavy-Ion Physics</td>\n",
       "      <td></td>\n",
       "      <td>None</td>\n",
       "      <td></td>\n",
       "      <td>None</td>\n",
       "    </tr>\n",
       "    <tr>\n",
       "      <th>1000</th>\n",
       "      <td>3</td>\n",
       "      <td>HIN-11-001</td>\n",
       "      <td>Long-range and short-range dihadron angular co...</td>\n",
       "      <td>JHEP 07 (2011) 076</td>\n",
       "      <td>2011-05-13</td>\n",
       "      <td>HIN</td>\n",
       "      <td>Heavy-Ion Physics</td>\n",
       "      <td></td>\n",
       "      <td>None</td>\n",
       "      <td></td>\n",
       "      <td>None</td>\n",
       "    </tr>\n",
       "    <tr>\n",
       "      <th>1001</th>\n",
       "      <td>2</td>\n",
       "      <td>HIN-10-003</td>\n",
       "      <td>Study of Z boson production in PbPb collisions...</td>\n",
       "      <td>PRL 106 (2011) 212301</td>\n",
       "      <td>2011-03-01</td>\n",
       "      <td>HIN</td>\n",
       "      <td>Heavy-Ion Physics</td>\n",
       "      <td></td>\n",
       "      <td>None</td>\n",
       "      <td></td>\n",
       "      <td>None</td>\n",
       "    </tr>\n",
       "    <tr>\n",
       "      <th>1002</th>\n",
       "      <td>1</td>\n",
       "      <td>HIN-10-004</td>\n",
       "      <td>Observation and studies of jet quenching in Pb...</td>\n",
       "      <td>PRC 84 (2011) 024906</td>\n",
       "      <td>2011-02-10</td>\n",
       "      <td>HIN</td>\n",
       "      <td>Heavy-Ion Physics</td>\n",
       "      <td></td>\n",
       "      <td>None</td>\n",
       "      <td></td>\n",
       "      <td>None</td>\n",
       "    </tr>\n",
       "  </tbody>\n",
       "</table>\n",
       "<p>264 rows × 11 columns</p>\n",
       "</div>"
      ],
      "text/plain": [
       "      CMS_id      report                                              title  \\\n",
       "739       92  EXO-12-011  Search for W' decaying to tau lepton and neutr...   \n",
       "740       91  EXO-14-009  Search for a massive resonance decaying into a...   \n",
       "741       90  EXO-12-007  Search for neutral color-octet weak-triplet sc...   \n",
       "742       89  EXO-14-008  Search for third-generation scalar leptoquarks...   \n",
       "743       88  EXO-13-007  Search for narrow high-mass resonances in prot...   \n",
       "...      ...         ...                                                ...   \n",
       "998        5  HIN-10-001  Dependence on pseudorapidity and on centrality...   \n",
       "999        4  HIN-11-007  Indications of Suppression of Excited $\\Upsilo...   \n",
       "1000       3  HIN-11-001  Long-range and short-range dihadron angular co...   \n",
       "1001       2  HIN-10-003  Study of Z boson production in PbPb collisions...   \n",
       "1002       1  HIN-10-004  Observation and studies of jet quenching in Pb...   \n",
       "\n",
       "                                           journal       date  CTG  \\\n",
       "739                             PLB 755 (2016) 196 2015-08-18  EXO   \n",
       "740                             JHEP 02 (2016) 145 2015-06-04  EXO   \n",
       "741                             JHEP 09 (2015) 201 2015-05-29  EXO   \n",
       "742   JHEP 07 (2015) 042 [Err: JHEP 11 (2016) 056] 2015-03-31  EXO   \n",
       "743                             PLB 748 (2015) 255 2015-02-17  EXO   \n",
       "...                                            ...        ...  ...   \n",
       "998                             JHEP 08 (2011) 141 2011-07-24  HIN   \n",
       "999                          PRL 107 (2011) 052302 2011-05-26  HIN   \n",
       "1000                            JHEP 07 (2011) 076 2011-05-13  HIN   \n",
       "1001                         PRL 106 (2011) 212301 2011-03-01  HIN   \n",
       "1002                          PRC 84 (2011) 024906 2011-02-10  HIN   \n",
       "\n",
       "               category inspire_id  \\\n",
       "739             Exotica    1388363   \n",
       "740             Exotica    1374621   \n",
       "741             Exotica    1373745   \n",
       "742             Exotica    1357201   \n",
       "743             Exotica    1345160   \n",
       "...                 ...        ...   \n",
       "998   Heavy-Ion Physics              \n",
       "999   Heavy-Ion Physics              \n",
       "1000  Heavy-Ion Physics              \n",
       "1001  Heavy-Ion Physics              \n",
       "1002  Heavy-Ion Physics              \n",
       "\n",
       "                                               abstract  \\\n",
       "739   The first search for a heavy charged vector bo...   \n",
       "740   A search for a massive resonance decaying into...   \n",
       "741   A search for pair production of neutral color-...   \n",
       "742   A search for pair production of third-generati...   \n",
       "743   A search for a narrow, high-mass resonance dec...   \n",
       "...                                                 ...   \n",
       "998                                                None   \n",
       "999                                                None   \n",
       "1000                                               None   \n",
       "1001                                               None   \n",
       "1002                                               None   \n",
       "\n",
       "                                               keywords  \\\n",
       "739   [p p: scattering, p p: colliding beams, W': se...   \n",
       "740   [p p: scattering, p p: colliding beams, resona...   \n",
       "741   [p p: scattering, p p: colliding beams, jet: b...   \n",
       "742   [p p: colliding beams, family: 3, leptoquark: ...   \n",
       "743   [p p: colliding beams, narrow resonance, reson...   \n",
       "...                                                 ...   \n",
       "998                                                       \n",
       "999                                                       \n",
       "1000                                                      \n",
       "1001                                                      \n",
       "1002                                                      \n",
       "\n",
       "                                 doi  \n",
       "739   10.1016/j.physletb.2016.02.002  \n",
       "740          10.1007/JHEP02(2016)145  \n",
       "741          10.1007/JHEP09(2015)201  \n",
       "742          10.1007/JHEP11(2016)056  \n",
       "743   10.1016/j.physletb.2015.07.011  \n",
       "...                              ...  \n",
       "998                             None  \n",
       "999                             None  \n",
       "1000                            None  \n",
       "1001                            None  \n",
       "1002                            None  \n",
       "\n",
       "[264 rows x 11 columns]"
      ]
     },
     "execution_count": 4,
     "metadata": {},
     "output_type": "execute_result"
    }
   ],
   "source": [
    "df[739:]"
   ]
  },
  {
   "cell_type": "code",
   "execution_count": null,
   "metadata": {},
   "outputs": [],
   "source": [
    "insprdf=pd.DataFrame()\n",
    "\n",
    "#See: https://github.com/restrepo/PythonTipsAndTricks/blob/master/pandas/DataFrame.md#insert-list-into-a-cell\n",
    "df['keywords']=''\n",
    "df['keywords']=df['keywords'].astype(object)"
   ]
  },
  {
   "cell_type": "code",
   "execution_count": 113,
   "metadata": {},
   "outputs": [
    {
     "name": "stdout",
     "output_type": "stream",
     "text": [
      "1002\r"
     ]
    }
   ],
   "source": [
    "for i in df.index:\n",
    "    print(i,end='\\r')\n",
    "    if not df.loc[i,\"inspire_id\"]:\n",
    "        continue\n",
    "    r=requests.get(f'https://inspirehep.net/api/literature/{df.loc[i,\"inspire_id\"]}')\n",
    "    try:\n",
    "        df.loc[i,'abstract']=r.json().get('metadata').get('abstracts')[0].get('value')\n",
    "    except:\n",
    "        df.loc[i,'abstract']=''\n",
    "    try:\n",
    "        df.at[i,'keywords']=[d.get('value') for d in r.json().get('metadata').get('keywords') \n",
    "                              if d.get('schema')=='INSPIRE' ]\n",
    "    except:\n",
    "        df.at[i,'keywords']=[]\n",
    "    try:\n",
    "        df.loc[i,'doi']=r.json().get('metadata').get('dois')[0].get('value')\n",
    "    except:\n",
    "        df.loc[i,'doi']=''\n",
    "\n",
    "    try:\n",
    "        insprdf=insprdf.append(r.json(),ignore_index=True).reset_index(drop=True)\n",
    "    except:\n",
    "        pass\n",
    "    time.sleep(0.5)\n",
    "    #break\n",
    "insprdf=insprdf.rename({'id':'inspire_id'},axis='columns')    "
   ]
  },
  {
   "cell_type": "code",
   "execution_count": 53,
   "metadata": {},
   "outputs": [],
   "source": [
    "df.to_csv('cms.csv',index=False)\n",
    "df.to_json('cms.json',orient='records')"
   ]
  },
  {
   "cell_type": "code",
   "execution_count": 119,
   "metadata": {},
   "outputs": [
    {
     "data": {
      "text/plain": [
       "Index(['created', 'inspire_id', 'links', 'metadata', 'updated', 'uuid',\n",
       "       'message', 'status'],\n",
       "      dtype='object')"
      ]
     },
     "execution_count": 119,
     "metadata": {},
     "output_type": "execute_result"
    }
   ],
   "source": [
    "insprdf.columns"
   ]
  },
  {
   "cell_type": "code",
   "execution_count": 120,
   "metadata": {},
   "outputs": [],
   "source": [
    "insprdf[['created', 'inspire_id', 'links', 'metadata', 'updated', 'uuid']].to_json('inspire.json',orient='records')"
   ]
  },
  {
   "cell_type": "code",
   "execution_count": 18,
   "metadata": {},
   "outputs": [],
   "source": [
    "#insprdfdf=pd.read_json('inspire.json')"
   ]
  },
  {
   "cell_type": "markdown",
   "metadata": {},
   "source": [
    "## Check keywords/MA Topics"
   ]
  },
  {
   "cell_type": "code",
   "execution_count": 27,
   "metadata": {},
   "outputs": [],
   "source": [
    "ln=pd.read_json('MA_topics.json')"
   ]
  },
  {
   "cell_type": "code",
   "execution_count": 28,
   "metadata": {},
   "outputs": [],
   "source": [
    "ln=ln[ln['doi']!=''].reset_index(drop=True)\n",
    "ln['doi']=ln['doi'].str.lower()\n",
    "ln=ln.rename({'doi':'ldoi'},axis='columns')"
   ]
  },
  {
   "cell_type": "code",
   "execution_count": 29,
   "metadata": {},
   "outputs": [],
   "source": [
    "ln2=pd.read_csv('lens-lhc.csv',low_memory=False)\n",
    "ln2['Fields of Study']=ln2['Fields of Study'].str.split('; ')\n",
    "ln2=ln2[['DOI','Fields of Study']]\n",
    "ln2=ln2[ln2['DOI']!=''].reset_index(drop=True)\n",
    "ln2=ln2.dropna(subset=['DOI']).reset_index(drop=True)\n",
    "ln2['DOI']=ln2['DOI'].str.lower()\n",
    "ln2=ln2.rename({'DOI':'ldoi','Fields of Study':'MA_topics'},axis='columns')"
   ]
  },
  {
   "cell_type": "code",
   "execution_count": 30,
   "metadata": {},
   "outputs": [
    {
     "data": {
      "text/plain": [
       "29155"
      ]
     },
     "execution_count": 30,
     "metadata": {},
     "output_type": "execute_result"
    }
   ],
   "source": [
    "ln.shape[0]+ln2.shape[0]"
   ]
  },
  {
   "cell_type": "code",
   "execution_count": 31,
   "metadata": {},
   "outputs": [],
   "source": [
    "ln=ln.append(ln2).drop_duplicates('ldoi').reset_index(drop=True)"
   ]
  },
  {
   "cell_type": "code",
   "execution_count": 32,
   "metadata": {},
   "outputs": [
    {
     "data": {
      "text/plain": [
       "(28714, 2)"
      ]
     },
     "execution_count": 32,
     "metadata": {},
     "output_type": "execute_result"
    }
   ],
   "source": [
    "ln.shape"
   ]
  },
  {
   "cell_type": "code",
   "execution_count": 33,
   "metadata": {},
   "outputs": [],
   "source": [
    "df['ldoi']=df['doi'].str.lower()"
   ]
  },
  {
   "cell_type": "code",
   "execution_count": 34,
   "metadata": {},
   "outputs": [],
   "source": [
    "df=df.merge(ln,on='ldoi',how='left')"
   ]
  },
  {
   "cell_type": "code",
   "execution_count": 35,
   "metadata": {},
   "outputs": [
    {
     "data": {
      "text/plain": [
       "(1003,)"
      ]
     },
     "execution_count": 35,
     "metadata": {},
     "output_type": "execute_result"
    }
   ],
   "source": [
    "df['MA_topics'].shape"
   ]
  },
  {
   "cell_type": "code",
   "execution_count": 36,
   "metadata": {},
   "outputs": [
    {
     "data": {
      "text/plain": [
       "(747,)"
      ]
     },
     "execution_count": 36,
     "metadata": {},
     "output_type": "execute_result"
    }
   ],
   "source": [
    "df['MA_topics'].dropna().shape"
   ]
  },
  {
   "cell_type": "code",
   "execution_count": 37,
   "metadata": {},
   "outputs": [],
   "source": [
    "df=df.drop('ldoi',axis='columns')"
   ]
  },
  {
   "cell_type": "code",
   "execution_count": 38,
   "metadata": {},
   "outputs": [],
   "source": [
    "row='keywords'\n",
    "#row='MA_topics'\n",
    "\n",
    "kk=df.copy()\n",
    "    \n",
    "if row=='keywords':\n",
    "    kk[row]=kk[row].apply(lambda l: list(set([x.split(':')[0] for x in l])) if isinstance(l,list) else [])\n",
    "kk=kk[kk[row].apply(lambda l: len(l) if isinstance(l,list) else 0)>0]\n",
    "kk=kk.reset_index(drop=True)"
   ]
  },
  {
   "cell_type": "code",
   "execution_count": 39,
   "metadata": {},
   "outputs": [
    {
     "data": {
      "text/plain": [
       "CTG\n",
       "EXO    186\n",
       "HIG    143\n",
       "SMP    135\n",
       "TOP    116\n",
       "HIN     78\n",
       "SUS     77\n",
       "B2G     62\n",
       "BPH     60\n",
       "FSQ     56\n",
       "Name: CTG, dtype: int64"
      ]
     },
     "execution_count": 39,
     "metadata": {},
     "output_type": "execute_result"
    }
   ],
   "source": [
    "kk.groupby('CTG')['CTG'].count().sort_values(ascending=False)"
   ]
  },
  {
   "cell_type": "code",
   "execution_count": 40,
   "metadata": {},
   "outputs": [
    {
     "data": {
      "text/plain": [
       "array(['FSQ', 'BPH', 'SMP', 'TOP', 'HIG', 'SUS', 'EXO', 'B2G', 'HIN'],\n",
       "      dtype=object)"
      ]
     },
     "execution_count": 40,
     "metadata": {},
     "output_type": "execute_result"
    }
   ],
   "source": [
    "kk['CTG'].unique()"
   ]
  },
  {
   "cell_type": "code",
   "execution_count": 41,
   "metadata": {},
   "outputs": [],
   "source": [
    "unique_row=list(set(kk[row].sum()))"
   ]
  },
  {
   "cell_type": "code",
   "execution_count": 42,
   "metadata": {},
   "outputs": [],
   "source": [
    "if row=='keywords':\n",
    "    unique_row=list(set([x for x in unique_row if x.find('-->')==-1])) "
   ]
  },
  {
   "cell_type": "code",
   "execution_count": 43,
   "metadata": {},
   "outputs": [],
   "source": [
    "if row=='MA_topics':\n",
    "    sus=['Minimal Supersymmetric Standard Model',  'Supersymmetry'\n",
    "       ,'Chargino', 'Gaugino','Gluino','Goldstino','Gravitino','Lightest Supersymmetric Particle','Neutralino','R-parity'\n",
    "         , 'Split supersymmetry','Stop squark','Superpartner',\n",
    "     'Supersymmetry breaking'\n",
    "    ]\n",
    "    exo=['Dark matter',\n",
    "     'Dark photon','Extra dimensions', 'Grand Unified Theory', 'Graviton','Hawking radiation','Hidden sector','Higgsino',\n",
    "     'Kaluza–Klein theory','Leptoquark','Micro black hole', 'Physics beyond the Standard Model','Randall–Sundrum model','Seesaw mechanism',\n",
    "         'Sterile neutrino','Technicolor','Two-Higgs-doublet model','Universal extra dimension','Unparticle physics','W′ and Z′ bosons','Large extra dimension'\n",
    "    ]\n",
    "\n",
    "    hig=['Higgs boson',\n",
    "     'Higgs field',\n",
    "     'Higgs mechanism',\n",
    "     'Higgs sector', 'High mass','Search for the Higgs boson'\n",
    "        ]\n",
    "\n",
    "    sm=['Standard Model',\n",
    "      'Gauge boson', 'W and Z bosons',\n",
    "    'Cabibbo–Kobayashi–Maskawa matrix',\n",
    "       ]\n",
    "\n",
    "    qcd=['Quantum chromodynamics',\n",
    "     'Gluon','B meson',\n",
    "     'Bottom quark', 'J/psi meson','Pentaquark','Perturbative QCD','Tetraquark'\n",
    "     ]\n",
    "    \n",
    "    hin=['Heavy ion','Quark–gluon plasma','Relativistic Heavy Ion Collider']\n",
    "\n",
    "    b2g=['Third generation']\n",
    "\n",
    "    top=['Top quark']\n",
    "\n",
    "if row=='keywords':\n",
    "    sus=[ 'supersymmetry', 'minimal supersymmetric standard model',\n",
    "     'sneutrino',\n",
    "     'gravitino',\n",
    "     'Higgsino',\n",
    "     'slepton',\n",
    "     'sbottom',\n",
    "     'stop',\n",
    "    'R parity',\n",
    "      'gaugino',\n",
    "     'neutralino',\n",
    "     'gluino',\n",
    "     'chargino',\n",
    "     'selectron',\n",
    "    'bino',\n",
    "      'sneutrino/tau',\n",
    "    'smuon',\n",
    "     'LSP',\n",
    "     'squark',\n",
    "     'stau']\n",
    "\n",
    "    exo=[ 'little Higgs model', 'universal extra dimension', 'technicolor',\n",
    "          \"W'\", 'leptoquark','graviton', 'seesaw model', 'unparticle',\"Z'\",'WIMP','hidden sector',\n",
    "         'dark matter', 'Kaluza-Klein model','black hole', \"top'\", 'Randall-Sundrum model',\n",
    "         'axion-like particles','WIMP nucleon']\n",
    "    sm=[ 'standard model','CKM matrix']\n",
    "    qcd=['quantum chromodynamics','gluon', 'tetraquark']\n",
    "\n",
    "    hig=['Higgs particle'] \n",
    "\n",
    "    bph= ['B', 'bottom']\n",
    "    top=['top'] \n",
    "    hin=['heavy ion']"
   ]
  },
  {
   "cell_type": "code",
   "execution_count": 44,
   "metadata": {},
   "outputs": [
    {
     "data": {
      "text/plain": [
       "CTG\n",
       "SUS    77\n",
       "EXO    43\n",
       "HIG    22\n",
       "B2G     2\n",
       "TOP     1\n",
       "Name: CTG, dtype: int64"
      ]
     },
     "execution_count": 44,
     "metadata": {},
     "output_type": "execute_result"
    }
   ],
   "source": [
    "kkk=kk[kk[row].apply(lambda l: list( set( sus ) & set(l) ) ).apply(len)>0]\n",
    "kkk.groupby('CTG')['CTG'].count().sort_values(ascending=False)"
   ]
  },
  {
   "cell_type": "code",
   "execution_count": 45,
   "metadata": {},
   "outputs": [
    {
     "data": {
      "text/plain": [
       "CTG\n",
       "EXO    109\n",
       "B2G     29\n",
       "HIG      8\n",
       "SUS      7\n",
       "TOP      3\n",
       "SMP      1\n",
       "FSQ      1\n",
       "Name: CTG, dtype: int64"
      ]
     },
     "execution_count": 45,
     "metadata": {},
     "output_type": "execute_result"
    }
   ],
   "source": [
    "kkk=kk[kk[row].apply(lambda l: list( set( exo ) & set(l) ) ).apply(len)>0]\n",
    "kkk.groupby('CTG')['CTG'].count().sort_values(ascending=False)"
   ]
  },
  {
   "cell_type": "code",
   "execution_count": 46,
   "metadata": {},
   "outputs": [
    {
     "data": {
      "text/plain": [
       "CTG\n",
       "HIG    139\n",
       "B2G     20\n",
       "EXO     16\n",
       "SMP      8\n",
       "TOP      5\n",
       "SUS      5\n",
       "FSQ      1\n",
       "Name: CTG, dtype: int64"
      ]
     },
     "execution_count": 46,
     "metadata": {},
     "output_type": "execute_result"
    }
   ],
   "source": [
    "kkk=kk[kk[row].apply(lambda l: list( set( hig ) & set(l) ) ).apply(len)>0]\n",
    "kkk.groupby('CTG')['CTG'].count().sort_values(ascending=False)"
   ]
  },
  {
   "cell_type": "code",
   "execution_count": 47,
   "metadata": {},
   "outputs": [
    {
     "data": {
      "text/plain": [
       "CTG\n",
       "TOP    116\n",
       "HIG     25\n",
       "B2G     16\n",
       "SUS     12\n",
       "EXO      9\n",
       "HIN      2\n",
       "SMP      1\n",
       "Name: CTG, dtype: int64"
      ]
     },
     "execution_count": 47,
     "metadata": {},
     "output_type": "execute_result"
    }
   ],
   "source": [
    "kkk=kk[kk[row].apply(lambda l: list( set( top ) & set(l) ) ).apply(len)>0]\n",
    "kkk.groupby('CTG')['CTG'].count().sort_values(ascending=False)"
   ]
  },
  {
   "cell_type": "code",
   "execution_count": 48,
   "metadata": {},
   "outputs": [
    {
     "data": {
      "text/plain": [
       "CTG\n",
       "HIN    38\n",
       "FSQ     4\n",
       "Name: CTG, dtype: int64"
      ]
     },
     "execution_count": 48,
     "metadata": {},
     "output_type": "execute_result"
    }
   ],
   "source": [
    "kkk=kk[kk[row].apply(lambda l: list( set( hin ) & set(l) ) ).apply(len)>0]\n",
    "kkk.groupby('CTG')['CTG'].count().sort_values(ascending=False)"
   ]
  },
  {
   "cell_type": "code",
   "execution_count": 49,
   "metadata": {},
   "outputs": [
    {
     "data": {
      "text/plain": [
       "CTG\n",
       "TOP    10\n",
       "EXO     7\n",
       "HIG     5\n",
       "Name: CTG, dtype: int64"
      ]
     },
     "execution_count": 49,
     "metadata": {},
     "output_type": "execute_result"
    }
   ],
   "source": [
    "kkk=kk[kk[row].apply(lambda l: list( set( sm ) & set(l) ) ).apply(len)>0]\n",
    "kkk.groupby('CTG')['CTG'].count().sort_values(ascending=False)"
   ]
  },
  {
   "cell_type": "code",
   "execution_count": 50,
   "metadata": {},
   "outputs": [
    {
     "data": {
      "text/plain": [
       "CTG\n",
       "SMP    60\n",
       "TOP    28\n",
       "HIN    17\n",
       "HIG    14\n",
       "EXO    11\n",
       "FSQ     8\n",
       "BPH     7\n",
       "B2G     7\n",
       "SUS     2\n",
       "Name: CTG, dtype: int64"
      ]
     },
     "execution_count": 50,
     "metadata": {},
     "output_type": "execute_result"
    }
   ],
   "source": [
    "kkk=kk[kk[row].apply(lambda l: list( set( qcd ) & set(l) ) ).apply(len)>0]\n",
    "kkk.groupby('CTG')['CTG'].count().sort_values(ascending=False)"
   ]
  },
  {
   "cell_type": "markdown",
   "metadata": {},
   "source": [
    "https://link.lens.org/FoybzNctiBi"
   ]
  },
  {
   "cell_type": "code",
   "execution_count": 51,
   "metadata": {},
   "outputs": [
    {
     "data": {
      "text/html": [
       "<div>\n",
       "<style scoped>\n",
       "    .dataframe tbody tr th:only-of-type {\n",
       "        vertical-align: middle;\n",
       "    }\n",
       "\n",
       "    .dataframe tbody tr th {\n",
       "        vertical-align: top;\n",
       "    }\n",
       "\n",
       "    .dataframe thead th {\n",
       "        text-align: right;\n",
       "    }\n",
       "</style>\n",
       "<table border=\"1\" class=\"dataframe\">\n",
       "  <thead>\n",
       "    <tr style=\"text-align: right;\">\n",
       "      <th></th>\n",
       "      <th>key</th>\n",
       "      <th>count</th>\n",
       "    </tr>\n",
       "  </thead>\n",
       "  <tbody>\n",
       "    <tr>\n",
       "      <th>356</th>\n",
       "      <td>CMS</td>\n",
       "      <td>893</td>\n",
       "    </tr>\n",
       "    <tr>\n",
       "      <th>202</th>\n",
       "      <td>CERN LHC Coll</td>\n",
       "      <td>878</td>\n",
       "    </tr>\n",
       "    <tr>\n",
       "      <th>405</th>\n",
       "      <td>p p</td>\n",
       "      <td>861</td>\n",
       "    </tr>\n",
       "    <tr>\n",
       "      <th>19</th>\n",
       "      <td>experimental results</td>\n",
       "      <td>857</td>\n",
       "    </tr>\n",
       "    <tr>\n",
       "      <th>248</th>\n",
       "      <td>channel cross section</td>\n",
       "      <td>372</td>\n",
       "    </tr>\n",
       "    <tr>\n",
       "      <th>527</th>\n",
       "      <td>13000 GeV-cms</td>\n",
       "      <td>358</td>\n",
       "    </tr>\n",
       "    <tr>\n",
       "      <th>681</th>\n",
       "      <td>jet</td>\n",
       "      <td>300</td>\n",
       "    </tr>\n",
       "    <tr>\n",
       "      <th>32</th>\n",
       "      <td>7000 GeV-cms</td>\n",
       "      <td>227</td>\n",
       "    </tr>\n",
       "    <tr>\n",
       "      <th>491</th>\n",
       "      <td>8000 GeV-cms</td>\n",
       "      <td>219</td>\n",
       "    </tr>\n",
       "    <tr>\n",
       "      <th>511</th>\n",
       "      <td>transverse momentum</td>\n",
       "      <td>216</td>\n",
       "    </tr>\n",
       "    <tr>\n",
       "      <th>197</th>\n",
       "      <td>background</td>\n",
       "      <td>214</td>\n",
       "    </tr>\n",
       "    <tr>\n",
       "      <th>565</th>\n",
       "      <td>Higgs particle</td>\n",
       "      <td>194</td>\n",
       "    </tr>\n",
       "    <tr>\n",
       "      <th>617</th>\n",
       "      <td>final state</td>\n",
       "      <td>182</td>\n",
       "    </tr>\n",
       "    <tr>\n",
       "      <th>390</th>\n",
       "      <td>top</td>\n",
       "      <td>181</td>\n",
       "    </tr>\n",
       "    <tr>\n",
       "      <th>513</th>\n",
       "      <td>muon</td>\n",
       "      <td>172</td>\n",
       "    </tr>\n",
       "    <tr>\n",
       "      <th>475</th>\n",
       "      <td>Z0</td>\n",
       "      <td>166</td>\n",
       "    </tr>\n",
       "    <tr>\n",
       "      <th>752</th>\n",
       "      <td>bottom</td>\n",
       "      <td>153</td>\n",
       "    </tr>\n",
       "    <tr>\n",
       "      <th>120</th>\n",
       "      <td>mass spectrum</td>\n",
       "      <td>140</td>\n",
       "    </tr>\n",
       "    <tr>\n",
       "      <th>747</th>\n",
       "      <td>W</td>\n",
       "      <td>131</td>\n",
       "    </tr>\n",
       "    <tr>\n",
       "      <th>623</th>\n",
       "      <td>differential cross section</td>\n",
       "      <td>124</td>\n",
       "    </tr>\n",
       "    <tr>\n",
       "      <th>733</th>\n",
       "      <td>quantum chromodynamics</td>\n",
       "      <td>123</td>\n",
       "    </tr>\n",
       "    <tr>\n",
       "      <th>548</th>\n",
       "      <td>supersymmetry</td>\n",
       "      <td>116</td>\n",
       "    </tr>\n",
       "    <tr>\n",
       "      <th>287</th>\n",
       "      <td>transverse momentum dependence</td>\n",
       "      <td>115</td>\n",
       "    </tr>\n",
       "    <tr>\n",
       "      <th>361</th>\n",
       "      <td>mass dependence</td>\n",
       "      <td>114</td>\n",
       "    </tr>\n",
       "    <tr>\n",
       "      <th>266</th>\n",
       "      <td>rapidity dependence</td>\n",
       "      <td>111</td>\n",
       "    </tr>\n",
       "    <tr>\n",
       "      <th>159</th>\n",
       "      <td>cross section</td>\n",
       "      <td>110</td>\n",
       "    </tr>\n",
       "    <tr>\n",
       "      <th>500</th>\n",
       "      <td>lepton</td>\n",
       "      <td>101</td>\n",
       "    </tr>\n",
       "    <tr>\n",
       "      <th>452</th>\n",
       "      <td>data analysis method</td>\n",
       "      <td>98</td>\n",
       "    </tr>\n",
       "    <tr>\n",
       "      <th>759</th>\n",
       "      <td>higher-order</td>\n",
       "      <td>96</td>\n",
       "    </tr>\n",
       "    <tr>\n",
       "      <th>145</th>\n",
       "      <td>resonance</td>\n",
       "      <td>94</td>\n",
       "    </tr>\n",
       "    <tr>\n",
       "      <th>10</th>\n",
       "      <td>coupling</td>\n",
       "      <td>94</td>\n",
       "    </tr>\n",
       "    <tr>\n",
       "      <th>493</th>\n",
       "      <td>CERN Lab</td>\n",
       "      <td>94</td>\n",
       "    </tr>\n",
       "    <tr>\n",
       "      <th>37</th>\n",
       "      <td>photon</td>\n",
       "      <td>92</td>\n",
       "    </tr>\n",
       "    <tr>\n",
       "      <th>297</th>\n",
       "      <td>parton</td>\n",
       "      <td>91</td>\n",
       "    </tr>\n",
       "    <tr>\n",
       "      <th>323</th>\n",
       "      <td>electron</td>\n",
       "      <td>91</td>\n",
       "    </tr>\n",
       "    <tr>\n",
       "      <th>144</th>\n",
       "      <td>vector boson</td>\n",
       "      <td>90</td>\n",
       "    </tr>\n",
       "    <tr>\n",
       "      <th>769</th>\n",
       "      <td>dilepton</td>\n",
       "      <td>87</td>\n",
       "    </tr>\n",
       "    <tr>\n",
       "      <th>142</th>\n",
       "      <td>kinematics</td>\n",
       "      <td>86</td>\n",
       "    </tr>\n",
       "    <tr>\n",
       "      <th>103</th>\n",
       "      <td>quark</td>\n",
       "      <td>85</td>\n",
       "    </tr>\n",
       "    <tr>\n",
       "      <th>30</th>\n",
       "      <td>mass</td>\n",
       "      <td>83</td>\n",
       "    </tr>\n",
       "    <tr>\n",
       "      <th>392</th>\n",
       "      <td>dijet</td>\n",
       "      <td>78</td>\n",
       "    </tr>\n",
       "    <tr>\n",
       "      <th>106</th>\n",
       "      <td>new physics</td>\n",
       "      <td>76</td>\n",
       "    </tr>\n",
       "    <tr>\n",
       "      <th>625</th>\n",
       "      <td>neutralino</td>\n",
       "      <td>71</td>\n",
       "    </tr>\n",
       "    <tr>\n",
       "      <th>517</th>\n",
       "      <td>numerical calculations</td>\n",
       "      <td>69</td>\n",
       "    </tr>\n",
       "    <tr>\n",
       "      <th>786</th>\n",
       "      <td>rapidity</td>\n",
       "      <td>67</td>\n",
       "    </tr>\n",
       "    <tr>\n",
       "      <th>391</th>\n",
       "      <td>lead</td>\n",
       "      <td>66</td>\n",
       "    </tr>\n",
       "    <tr>\n",
       "      <th>107</th>\n",
       "      <td>squark</td>\n",
       "      <td>65</td>\n",
       "    </tr>\n",
       "    <tr>\n",
       "      <th>234</th>\n",
       "      <td>charged particle</td>\n",
       "      <td>64</td>\n",
       "    </tr>\n",
       "    <tr>\n",
       "      <th>231</th>\n",
       "      <td>transverse energy</td>\n",
       "      <td>60</td>\n",
       "    </tr>\n",
       "    <tr>\n",
       "      <th>255</th>\n",
       "      <td>gluino</td>\n",
       "      <td>60</td>\n",
       "    </tr>\n",
       "  </tbody>\n",
       "</table>\n",
       "</div>"
      ],
      "text/plain": [
       "                                key  count\n",
       "356                             CMS    893\n",
       "202                   CERN LHC Coll    878\n",
       "405                             p p    861\n",
       "19             experimental results    857\n",
       "248           channel cross section    372\n",
       "527                   13000 GeV-cms    358\n",
       "681                             jet    300\n",
       "32                     7000 GeV-cms    227\n",
       "491                    8000 GeV-cms    219\n",
       "511             transverse momentum    216\n",
       "197                      background    214\n",
       "565                  Higgs particle    194\n",
       "617                     final state    182\n",
       "390                             top    181\n",
       "513                            muon    172\n",
       "475                              Z0    166\n",
       "752                          bottom    153\n",
       "120                   mass spectrum    140\n",
       "747                               W    131\n",
       "623      differential cross section    124\n",
       "733          quantum chromodynamics    123\n",
       "548                   supersymmetry    116\n",
       "287  transverse momentum dependence    115\n",
       "361                 mass dependence    114\n",
       "266             rapidity dependence    111\n",
       "159                   cross section    110\n",
       "500                          lepton    101\n",
       "452            data analysis method     98\n",
       "759                    higher-order     96\n",
       "145                       resonance     94\n",
       "10                         coupling     94\n",
       "493                        CERN Lab     94\n",
       "37                           photon     92\n",
       "297                          parton     91\n",
       "323                        electron     91\n",
       "144                    vector boson     90\n",
       "769                        dilepton     87\n",
       "142                      kinematics     86\n",
       "103                           quark     85\n",
       "30                             mass     83\n",
       "392                           dijet     78\n",
       "106                     new physics     76\n",
       "625                      neutralino     71\n",
       "517          numerical calculations     69\n",
       "786                        rapidity     67\n",
       "391                            lead     66\n",
       "107                          squark     65\n",
       "234                charged particle     64\n",
       "231               transverse energy     60\n",
       "255                          gluino     60"
      ]
     },
     "execution_count": 51,
     "metadata": {},
     "output_type": "execute_result"
    }
   ],
   "source": [
    "lf=kk[row].sum()\n",
    "lfu=list(set( kk[row].sum() ))\n",
    "pd.DataFrame(data=zip( lfu, [ lf.count(l) for l in lfu  ] ),columns=['key','count'] ).sort_values('count',ascending=False)[:50]"
   ]
  },
  {
   "cell_type": "code",
   "execution_count": null,
   "metadata": {},
   "outputs": [],
   "source": []
  },
  {
   "cell_type": "code",
   "execution_count": null,
   "metadata": {},
   "outputs": [],
   "source": []
  }
 ],
 "metadata": {
  "kernelspec": {
   "display_name": "Python 3 (ipykernel)",
   "language": "python",
   "name": "python3"
  },
  "language_info": {
   "codemirror_mode": {
    "name": "ipython",
    "version": 3
   },
   "file_extension": ".py",
   "mimetype": "text/x-python",
   "name": "python",
   "nbconvert_exporter": "python",
   "pygments_lexer": "ipython3",
   "version": "3.7.3"
  }
 },
 "nbformat": 4,
 "nbformat_minor": 4
}

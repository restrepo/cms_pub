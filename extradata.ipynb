{
 "cells": [
  {
   "cell_type": "markdown",
   "metadata": {},
   "source": [
    "Use:\n",
    "* https://github.com/inspirehep/magpie from the inpirehep records\n",
    "* https://link.lens.org/ywt8QmB3gAh download\n",
    "* https://link.lens.org/uQjoEFwtx1j download\n",
    "See also: http://ai.stanford.edu/blog/introduction-to-knowledge-graphs/"
   ]
  },
  {
   "cell_type": "code",
   "execution_count": 37,
   "metadata": {},
   "outputs": [],
   "source": [
    "import pandas as pd\n",
    "import requests\n",
    "import time\n",
    "import sys"
   ]
  },
  {
   "cell_type": "code",
   "execution_count": 38,
   "metadata": {},
   "outputs": [],
   "source": [
    "df=pd.read_json('https://raw.githubusercontent.com/restrepo/cms_pub/main/cms.json')"
   ]
  },
  {
   "cell_type": "code",
   "execution_count": 39,
   "metadata": {},
   "outputs": [],
   "source": [
    "#df=df.drop('MA_topics',axis='columns')"
   ]
  },
  {
   "cell_type": "markdown",
   "metadata": {},
   "source": [
    "* https://github.com/inspirehep/rest-api-doc\n",
    "\n",
    "In order to avoid overwhelming the server, we enforce rate limits per IP address: every IP address is allowed 50 requests, then at most 2 requests per second. If you exceed those limits, you will receive a response with HTTP status code 429 and a x-retry-in header telling you how long to wait before retrying."
   ]
  },
  {
   "cell_type": "code",
   "execution_count": 40,
   "metadata": {},
   "outputs": [
    {
     "data": {
      "text/html": [
       "<div>\n",
       "<style scoped>\n",
       "    .dataframe tbody tr th:only-of-type {\n",
       "        vertical-align: middle;\n",
       "    }\n",
       "\n",
       "    .dataframe tbody tr th {\n",
       "        vertical-align: top;\n",
       "    }\n",
       "\n",
       "    .dataframe thead th {\n",
       "        text-align: right;\n",
       "    }\n",
       "</style>\n",
       "<table border=\"1\" class=\"dataframe\">\n",
       "  <thead>\n",
       "    <tr style=\"text-align: right;\">\n",
       "      <th></th>\n",
       "      <th>CMS_id</th>\n",
       "      <th>report</th>\n",
       "      <th>title</th>\n",
       "      <th>journal</th>\n",
       "      <th>date</th>\n",
       "      <th>CTG</th>\n",
       "      <th>category</th>\n",
       "      <th>inspire_id</th>\n",
       "      <th>abstract</th>\n",
       "      <th>keywords</th>\n",
       "      <th>doi</th>\n",
       "      <th>MA_topics</th>\n",
       "    </tr>\n",
       "  </thead>\n",
       "  <tbody>\n",
       "    <tr>\n",
       "      <th>0</th>\n",
       "      <td>58</td>\n",
       "      <td>FSQ-16-006</td>\n",
       "      <td>Study of central exclusive $\\pi^{+}\\pi^{-}$ pr...</td>\n",
       "      <td>EPJC 80 (2020) 718</td>\n",
       "      <td>2020-03-05</td>\n",
       "      <td>FSQ</td>\n",
       "      <td>Forward and Small-x QCD Physics</td>\n",
       "      <td>1784063</td>\n",
       "      <td>Central exclusive and semiexclusive production...</td>\n",
       "      <td>[p p: scattering, p p: colliding beams, pi: pa...</td>\n",
       "      <td>10.1140/epjc/s10052-020-8166-5</td>\n",
       "      <td>[Rapidity, Physics, Invariant mass, Nuclear ph...</td>\n",
       "    </tr>\n",
       "  </tbody>\n",
       "</table>\n",
       "</div>"
      ],
      "text/plain": [
       "   CMS_id      report                                              title  \\\n",
       "0      58  FSQ-16-006  Study of central exclusive $\\pi^{+}\\pi^{-}$ pr...   \n",
       "\n",
       "              journal       date  CTG                         category  \\\n",
       "0  EPJC 80 (2020) 718 2020-03-05  FSQ  Forward and Small-x QCD Physics   \n",
       "\n",
       "  inspire_id                                           abstract  \\\n",
       "0    1784063  Central exclusive and semiexclusive production...   \n",
       "\n",
       "                                            keywords  \\\n",
       "0  [p p: scattering, p p: colliding beams, pi: pa...   \n",
       "\n",
       "                              doi  \\\n",
       "0  10.1140/epjc/s10052-020-8166-5   \n",
       "\n",
       "                                           MA_topics  \n",
       "0  [Rapidity, Physics, Invariant mass, Nuclear ph...  "
      ]
     },
     "execution_count": 40,
     "metadata": {},
     "output_type": "execute_result"
    }
   ],
   "source": [
    "df[:1]"
   ]
  },
  {
   "cell_type": "code",
   "execution_count": 41,
   "metadata": {},
   "outputs": [
    {
     "ename": "SystemExit",
     "evalue": "Go to next cell",
     "output_type": "error",
     "traceback": [
      "An exception has occurred, use %tb to see the full traceback.\n",
      "\u001b[0;31mSystemExit\u001b[0m\u001b[0;31m:\u001b[0m Go to next cell\n"
     ]
    },
    {
     "name": "stderr",
     "output_type": "stream",
     "text": [
      "/usr/local/lib/python3.7/dist-packages/IPython/core/interactiveshell.py:3449: UserWarning: To exit: use 'exit', 'quit', or Ctrl-D.\n",
      "  warn(\"To exit: use 'exit', 'quit', or Ctrl-D.\", stacklevel=1)\n"
     ]
    }
   ],
   "source": [
    "REBUILD=False\n",
    "if not REBUILD:\n",
    "    sys.exit('Go to next cell')\n",
    "insprdf=pd.DataFrame()\n",
    "\n",
    "#See: https://github.com/restrepo/PythonTipsAndTricks/blob/master/pandas/DataFrame.md#insert-list-into-a-cell\n",
    "df['keywords']=''\n",
    "df['keywords']=df['keywords'].astype(object)"
   ]
  },
  {
   "cell_type": "code",
   "execution_count": 42,
   "metadata": {},
   "outputs": [
    {
     "name": "stdout",
     "output_type": "stream",
     "text": [
      "Go to next cell\n"
     ]
    }
   ],
   "source": [
    "for i in df.index:\n",
    "    if not REBUILD:\n",
    "        print('Go to next cell')\n",
    "        break\n",
    "    print(i,end='\\r')\n",
    "    if not df.loc[i,\"inspire_id\"]:\n",
    "        continue\n",
    "    r=requests.get(f'https://inspirehep.net/api/literature/{df.loc[i,\"inspire_id\"]}')\n",
    "    try:\n",
    "        df.loc[i,'abstract']=r.json().get('metadata').get('abstracts')[0].get('value')\n",
    "    except:\n",
    "        df.loc[i,'abstract']=''\n",
    "    try:\n",
    "        df.at[i,'keywords']=[d.get('value') for d in r.json().get('metadata').get('keywords') \n",
    "                              if d.get('schema')=='INSPIRE' ]\n",
    "    except:\n",
    "        df.at[i,'keywords']=[]\n",
    "    try:\n",
    "        df.loc[i,'doi']=r.json().get('metadata').get('dois')[0].get('value')\n",
    "    except:\n",
    "        df.loc[i,'doi']=''\n",
    "\n",
    "    try:\n",
    "        insprdf=insprdf.append(r.json(),ignore_index=True).reset_index(drop=True)\n",
    "    except:\n",
    "        pass\n",
    "    time.sleep(0.5)\n",
    "    #break\n",
    "insprdf=insprdf.rename({'id':'inspire_id'},axis='columns')    "
   ]
  },
  {
   "cell_type": "code",
   "execution_count": 43,
   "metadata": {},
   "outputs": [],
   "source": [
    "if REBUILD:\n",
    "    df.to_csv('cms.csv',index=False)\n",
    "    df.to_json('cms.json',orient='records')"
   ]
  },
  {
   "cell_type": "code",
   "execution_count": 44,
   "metadata": {},
   "outputs": [],
   "source": [
    "if REBUILD:\n",
    "    insprdf[['created', 'inspire_id', 'links', 'metadata', 'updated', 'uuid']].to_json('inspire.json',orient='records')"
   ]
  },
  {
   "cell_type": "code",
   "execution_count": 18,
   "metadata": {},
   "outputs": [],
   "source": [
    "#insprdfdf=pd.read_json('inspire.json')"
   ]
  },
  {
   "cell_type": "markdown",
   "metadata": {},
   "source": [
    "## Check keywords/MA Topics"
   ]
  },
  {
   "cell_type": "code",
   "execution_count": 49,
   "metadata": {},
   "outputs": [
    {
     "ename": "SystemExit",
     "evalue": "Go to next cell",
     "output_type": "error",
     "traceback": [
      "An exception has occurred, use %tb to see the full traceback.\n",
      "\u001b[0;31mSystemExit\u001b[0m\u001b[0;31m:\u001b[0m Go to next cell\n"
     ]
    },
    {
     "name": "stderr",
     "output_type": "stream",
     "text": [
      "/usr/local/lib/python3.7/dist-packages/IPython/core/interactiveshell.py:3449: UserWarning: To exit: use 'exit', 'quit', or Ctrl-D.\n",
      "  warn(\"To exit: use 'exit', 'quit', or Ctrl-D.\", stacklevel=1)\n"
     ]
    }
   ],
   "source": [
    "if not REBUILD:\n",
    "    sys.exit('Go to next cell')\n",
    "ln=pd.read_json('MA_topics.json')\n",
    "\n",
    "ln=ln[ln['doi']!=''].reset_index(drop=True)\n",
    "ln['doi']=ln['doi'].str.lower()\n",
    "ln=ln.rename({'doi':'ldoi'},axis='columns')\n",
    "\n",
    "ln2=pd.read_csv('lens-lhc.csv',low_memory=False)\n",
    "ln2['Fields of Study']=ln2['Fields of Study'].str.split('; ')\n",
    "ln2=ln2[['DOI','Fields of Study']]\n",
    "ln2=ln2[ln2['DOI']!=''].reset_index(drop=True)\n",
    "ln2=ln2.dropna(subset=['DOI']).reset_index(drop=True)\n",
    "ln2['DOI']=ln2['DOI'].str.lower()\n",
    "ln2=ln2.rename({'DOI':'ldoi','Fields of Study':'MA_topics'},axis='columns')\n",
    "\n",
    "ln.shape[0]+ln2.shape[0]\n",
    "\n",
    "ln=ln.append(ln2).drop_duplicates('ldoi').reset_index(drop=True)\n",
    "\n",
    "ln.shape\n",
    "\n",
    "df['ldoi']=df['doi'].str.lower()\n",
    "\n",
    "df=df.merge(ln,on='ldoi',how='left')\n",
    "\n",
    "df=df.drop('ldoi',axis='columns')"
   ]
  },
  {
   "cell_type": "code",
   "execution_count": 46,
   "metadata": {},
   "outputs": [
    {
     "data": {
      "text/plain": [
       "(1003,)"
      ]
     },
     "execution_count": 46,
     "metadata": {},
     "output_type": "execute_result"
    }
   ],
   "source": [
    "df['MA_topics'].shape"
   ]
  },
  {
   "cell_type": "code",
   "execution_count": 47,
   "metadata": {},
   "outputs": [
    {
     "data": {
      "text/plain": [
       "(747,)"
      ]
     },
     "execution_count": 47,
     "metadata": {},
     "output_type": "execute_result"
    }
   ],
   "source": [
    "df['MA_topics'].dropna().shape"
   ]
  },
  {
   "cell_type": "code",
   "execution_count": 50,
   "metadata": {},
   "outputs": [
    {
     "data": {
      "text/html": [
       "<div>\n",
       "<style scoped>\n",
       "    .dataframe tbody tr th:only-of-type {\n",
       "        vertical-align: middle;\n",
       "    }\n",
       "\n",
       "    .dataframe tbody tr th {\n",
       "        vertical-align: top;\n",
       "    }\n",
       "\n",
       "    .dataframe thead th {\n",
       "        text-align: right;\n",
       "    }\n",
       "</style>\n",
       "<table border=\"1\" class=\"dataframe\">\n",
       "  <thead>\n",
       "    <tr style=\"text-align: right;\">\n",
       "      <th></th>\n",
       "      <th>CMS_id</th>\n",
       "      <th>report</th>\n",
       "      <th>title</th>\n",
       "      <th>journal</th>\n",
       "      <th>date</th>\n",
       "      <th>CTG</th>\n",
       "      <th>category</th>\n",
       "      <th>inspire_id</th>\n",
       "      <th>abstract</th>\n",
       "      <th>keywords</th>\n",
       "      <th>doi</th>\n",
       "      <th>MA_topics</th>\n",
       "    </tr>\n",
       "  </thead>\n",
       "  <tbody>\n",
       "    <tr>\n",
       "      <th>0</th>\n",
       "      <td>58</td>\n",
       "      <td>FSQ-16-006</td>\n",
       "      <td>Study of central exclusive $\\pi^{+}\\pi^{-}$ pr...</td>\n",
       "      <td>EPJC 80 (2020) 718</td>\n",
       "      <td>2020-03-05</td>\n",
       "      <td>FSQ</td>\n",
       "      <td>Forward and Small-x QCD Physics</td>\n",
       "      <td>1784063</td>\n",
       "      <td>Central exclusive and semiexclusive production...</td>\n",
       "      <td>[p p: scattering, p p: colliding beams, pi: pa...</td>\n",
       "      <td>10.1140/epjc/s10052-020-8166-5</td>\n",
       "      <td>[Rapidity, Physics, Invariant mass, Nuclear ph...</td>\n",
       "    </tr>\n",
       "    <tr>\n",
       "      <th>1</th>\n",
       "      <td>57</td>\n",
       "      <td>FSQ-12-033</td>\n",
       "      <td>Measurement of single-diffractive dijet produc...</td>\n",
       "      <td>EPJC 80, 1164 (2020)</td>\n",
       "      <td>2020-02-27</td>\n",
       "      <td>FSQ</td>\n",
       "      <td>Forward and Small-x QCD Physics</td>\n",
       "      <td>1782637</td>\n",
       "      <td>Measurements are presented of the single-diffr...</td>\n",
       "      <td>[p p: colliding beams, parton: distribution fu...</td>\n",
       "      <td>10.1140/epjc/s10052-020-08562-y</td>\n",
       "      <td>None</td>\n",
       "    </tr>\n",
       "  </tbody>\n",
       "</table>\n",
       "</div>"
      ],
      "text/plain": [
       "   CMS_id      report                                              title  \\\n",
       "0      58  FSQ-16-006  Study of central exclusive $\\pi^{+}\\pi^{-}$ pr...   \n",
       "1      57  FSQ-12-033  Measurement of single-diffractive dijet produc...   \n",
       "\n",
       "                journal       date  CTG                         category  \\\n",
       "0    EPJC 80 (2020) 718 2020-03-05  FSQ  Forward and Small-x QCD Physics   \n",
       "1  EPJC 80, 1164 (2020) 2020-02-27  FSQ  Forward and Small-x QCD Physics   \n",
       "\n",
       "  inspire_id                                           abstract  \\\n",
       "0    1784063  Central exclusive and semiexclusive production...   \n",
       "1    1782637  Measurements are presented of the single-diffr...   \n",
       "\n",
       "                                            keywords  \\\n",
       "0  [p p: scattering, p p: colliding beams, pi: pa...   \n",
       "1  [p p: colliding beams, parton: distribution fu...   \n",
       "\n",
       "                               doi  \\\n",
       "0   10.1140/epjc/s10052-020-8166-5   \n",
       "1  10.1140/epjc/s10052-020-08562-y   \n",
       "\n",
       "                                           MA_topics  \n",
       "0  [Rapidity, Physics, Invariant mass, Nuclear ph...  \n",
       "1                                               None  "
      ]
     },
     "execution_count": 50,
     "metadata": {},
     "output_type": "execute_result"
    }
   ],
   "source": [
    "df[:2]"
   ]
  },
  {
   "cell_type": "code",
   "execution_count": 17,
   "metadata": {},
   "outputs": [],
   "source": [
    "#row='keywords'\n",
    "row='MA_topics'\n",
    "\n",
    "kk=df.copy()\n",
    "    \n",
    "if row=='keywords':\n",
    "    kk[row]=kk[row].apply(lambda l: list(set([x.split(':')[0] for x in l])) if isinstance(l,list) else [])\n",
    "kk=kk[kk[row].apply(lambda l: len(l) if isinstance(l,list) else 0)>0]\n",
    "kk=kk.reset_index(drop=True)"
   ]
  },
  {
   "cell_type": "code",
   "execution_count": 18,
   "metadata": {},
   "outputs": [
    {
     "data": {
      "text/plain": [
       "CTG\n",
       "EXO    161\n",
       "HIG    126\n",
       "SMP    102\n",
       "TOP     93\n",
       "SUS     61\n",
       "HIN     59\n",
       "B2G     53\n",
       "FSQ     48\n",
       "BPH     44\n",
       "Name: CTG, dtype: int64"
      ]
     },
     "execution_count": 18,
     "metadata": {},
     "output_type": "execute_result"
    }
   ],
   "source": [
    "kk.groupby('CTG')['CTG'].count().sort_values(ascending=False)"
   ]
  },
  {
   "cell_type": "code",
   "execution_count": 19,
   "metadata": {},
   "outputs": [
    {
     "data": {
      "text/plain": [
       "array(['FSQ', 'BPH', 'SMP', 'TOP', 'HIG', 'SUS', 'EXO', 'B2G', 'HIN'],\n",
       "      dtype=object)"
      ]
     },
     "execution_count": 19,
     "metadata": {},
     "output_type": "execute_result"
    }
   ],
   "source": [
    "kk['CTG'].unique()"
   ]
  },
  {
   "cell_type": "code",
   "execution_count": 20,
   "metadata": {},
   "outputs": [],
   "source": [
    "unique_row=list(set(kk[row].sum()))"
   ]
  },
  {
   "cell_type": "code",
   "execution_count": 21,
   "metadata": {},
   "outputs": [],
   "source": [
    "if row=='keywords':\n",
    "    unique_row=list(set([x for x in unique_row if x.find('-->')==-1])) "
   ]
  },
  {
   "cell_type": "code",
   "execution_count": 22,
   "metadata": {},
   "outputs": [],
   "source": [
    "if row=='MA_topics':\n",
    "    sus=['Minimal Supersymmetric Standard Model',  'Supersymmetry'\n",
    "       ,'Chargino', 'Gaugino','Gluino','Goldstino','Gravitino','Lightest Supersymmetric Particle','Neutralino','R-parity'\n",
    "         , 'Split supersymmetry','Stop squark','Superpartner',\n",
    "     'Supersymmetry breaking'\n",
    "    ]\n",
    "    exo=['Dark matter',\n",
    "     'Dark photon','Extra dimensions', 'Grand Unified Theory', 'Graviton','Hawking radiation','Hidden sector','Higgsino',\n",
    "     'Kaluza–Klein theory','Leptoquark','Micro black hole', 'Physics beyond the Standard Model','Randall–Sundrum model','Seesaw mechanism',\n",
    "         'Sterile neutrino','Technicolor','Two-Higgs-doublet model','Universal extra dimension','Unparticle physics','W′ and Z′ bosons','Large extra dimension'\n",
    "    ]\n",
    "\n",
    "    hig=['Higgs boson',\n",
    "     'Higgs field',\n",
    "     'Higgs mechanism',\n",
    "     'Higgs sector', 'High mass','Search for the Higgs boson'\n",
    "        ]\n",
    "\n",
    "    sm=['Standard Model',\n",
    "      'Gauge boson', 'W and Z bosons',\n",
    "    'Cabibbo–Kobayashi–Maskawa matrix',\n",
    "       ]\n",
    "\n",
    "    qcd=['Quantum chromodynamics',\n",
    "     'Gluon','B meson',\n",
    "     'Bottom quark', 'J/psi meson','Pentaquark','Perturbative QCD','Tetraquark'\n",
    "     ]\n",
    "    \n",
    "    hin=['Heavy ion','Quark–gluon plasma','Relativistic Heavy Ion Collider']\n",
    "\n",
    "    b2g=['Third generation']\n",
    "\n",
    "    top=['Top quark']\n",
    "\n",
    "if row=='keywords':\n",
    "    sus=[ 'supersymmetry', 'minimal supersymmetric standard model',\n",
    "     'sneutrino',\n",
    "     'gravitino',\n",
    "     'Higgsino',\n",
    "     'slepton',\n",
    "     'sbottom',\n",
    "     'stop',\n",
    "    'R parity',\n",
    "      'gaugino',\n",
    "     'neutralino',\n",
    "     'gluino',\n",
    "     'chargino',\n",
    "     'selectron',\n",
    "    'bino',\n",
    "      'sneutrino/tau',\n",
    "    'smuon',\n",
    "     'LSP',\n",
    "     'squark',\n",
    "     'stau']\n",
    "\n",
    "    exo=[ 'little Higgs model', 'universal extra dimension', 'technicolor',\n",
    "          \"W'\", 'leptoquark','graviton', 'seesaw model', 'unparticle',\"Z'\",'WIMP','hidden sector',\n",
    "         'dark matter', 'Kaluza-Klein model','black hole', \"top'\", 'Randall-Sundrum model',\n",
    "         'axion-like particles','WIMP nucleon']\n",
    "    sm=[ 'standard model','CKM matrix']\n",
    "    qcd=['quantum chromodynamics','gluon', 'tetraquark']\n",
    "\n",
    "    hig=['Higgs particle'] \n",
    "\n",
    "    bph= ['B', 'bottom']\n",
    "    top=['top'] \n",
    "    hin=['heavy ion']"
   ]
  },
  {
   "cell_type": "code",
   "execution_count": 23,
   "metadata": {},
   "outputs": [
    {
     "data": {
      "text/plain": [
       "CTG\n",
       "SUS    61\n",
       "EXO    36\n",
       "HIG    19\n",
       "B2G     5\n",
       "TOP     3\n",
       "SMP     1\n",
       "Name: CTG, dtype: int64"
      ]
     },
     "execution_count": 23,
     "metadata": {},
     "output_type": "execute_result"
    }
   ],
   "source": [
    "kkk=kk[kk[row].apply(lambda l: list( set( sus ) & set(l) ) ).apply(len)>0]\n",
    "kkk.groupby('CTG')['CTG'].count().sort_values(ascending=False)"
   ]
  },
  {
   "cell_type": "code",
   "execution_count": 24,
   "metadata": {},
   "outputs": [
    {
     "data": {
      "text/plain": [
       "CTG\n",
       "EXO    81\n",
       "SUS    21\n",
       "B2G    17\n",
       "HIG    15\n",
       "TOP     5\n",
       "SMP     4\n",
       "BPH     1\n",
       "Name: CTG, dtype: int64"
      ]
     },
     "execution_count": 24,
     "metadata": {},
     "output_type": "execute_result"
    }
   ],
   "source": [
    "kkk=kk[kk[row].apply(lambda l: list( set( exo ) & set(l) ) ).apply(len)>0]\n",
    "kkk.groupby('CTG')['CTG'].count().sort_values(ascending=False)"
   ]
  },
  {
   "cell_type": "code",
   "execution_count": 25,
   "metadata": {},
   "outputs": [
    {
     "data": {
      "text/plain": [
       "CTG\n",
       "HIG    119\n",
       "B2G     22\n",
       "EXO     20\n",
       "SMP      7\n",
       "TOP      6\n",
       "SUS      6\n",
       "FSQ      1\n",
       "BPH      1\n",
       "Name: CTG, dtype: int64"
      ]
     },
     "execution_count": 25,
     "metadata": {},
     "output_type": "execute_result"
    }
   ],
   "source": [
    "kkk=kk[kk[row].apply(lambda l: list( set( hig ) & set(l) ) ).apply(len)>0]\n",
    "kkk.groupby('CTG')['CTG'].count().sort_values(ascending=False)"
   ]
  },
  {
   "cell_type": "code",
   "execution_count": 26,
   "metadata": {},
   "outputs": [
    {
     "data": {
      "text/plain": [
       "CTG\n",
       "TOP    77\n",
       "B2G    28\n",
       "HIG    17\n",
       "SUS    12\n",
       "EXO     9\n",
       "HIN     1\n",
       "Name: CTG, dtype: int64"
      ]
     },
     "execution_count": 26,
     "metadata": {},
     "output_type": "execute_result"
    }
   ],
   "source": [
    "kkk=kk[kk[row].apply(lambda l: list( set( top ) & set(l) ) ).apply(len)>0]\n",
    "kkk.groupby('CTG')['CTG'].count().sort_values(ascending=False)"
   ]
  },
  {
   "cell_type": "code",
   "execution_count": 27,
   "metadata": {},
   "outputs": [
    {
     "data": {
      "text/plain": [
       "CTG\n",
       "HIN    34\n",
       "FSQ     2\n",
       "EXO     1\n",
       "Name: CTG, dtype: int64"
      ]
     },
     "execution_count": 27,
     "metadata": {},
     "output_type": "execute_result"
    }
   ],
   "source": [
    "kkk=kk[kk[row].apply(lambda l: list( set( hin ) & set(l) ) ).apply(len)>0]\n",
    "kkk.groupby('CTG')['CTG'].count().sort_values(ascending=False)"
   ]
  },
  {
   "cell_type": "code",
   "execution_count": 28,
   "metadata": {},
   "outputs": [
    {
     "data": {
      "text/plain": [
       "CTG\n",
       "HIG    85\n",
       "EXO    79\n",
       "TOP    45\n",
       "SMP    41\n",
       "B2G    29\n",
       "SUS    18\n",
       "BPH     8\n",
       "HIN     6\n",
       "FSQ     3\n",
       "Name: CTG, dtype: int64"
      ]
     },
     "execution_count": 28,
     "metadata": {},
     "output_type": "execute_result"
    }
   ],
   "source": [
    "kkk=kk[kk[row].apply(lambda l: list( set( sm ) & set(l) ) ).apply(len)>0]\n",
    "kkk.groupby('CTG')['CTG'].count().sort_values(ascending=False)"
   ]
  },
  {
   "cell_type": "code",
   "execution_count": 29,
   "metadata": {},
   "outputs": [
    {
     "data": {
      "text/plain": [
       "CTG\n",
       "SMP    53\n",
       "HIG    36\n",
       "TOP    34\n",
       "EXO    29\n",
       "B2G    29\n",
       "HIN    28\n",
       "FSQ    17\n",
       "BPH    11\n",
       "SUS    10\n",
       "Name: CTG, dtype: int64"
      ]
     },
     "execution_count": 29,
     "metadata": {},
     "output_type": "execute_result"
    }
   ],
   "source": [
    "kkk=kk[kk[row].apply(lambda l: list( set( qcd ) & set(l) ) ).apply(len)>0]\n",
    "kkk.groupby('CTG')['CTG'].count().sort_values(ascending=False)"
   ]
  },
  {
   "cell_type": "markdown",
   "metadata": {},
   "source": [
    "https://link.lens.org/FoybzNctiBi"
   ]
  },
  {
   "cell_type": "code",
   "execution_count": 30,
   "metadata": {},
   "outputs": [
    {
     "data": {
      "text/html": [
       "<div>\n",
       "<style scoped>\n",
       "    .dataframe tbody tr th:only-of-type {\n",
       "        vertical-align: middle;\n",
       "    }\n",
       "\n",
       "    .dataframe tbody tr th {\n",
       "        vertical-align: top;\n",
       "    }\n",
       "\n",
       "    .dataframe thead th {\n",
       "        text-align: right;\n",
       "    }\n",
       "</style>\n",
       "<table border=\"1\" class=\"dataframe\">\n",
       "  <thead>\n",
       "    <tr style=\"text-align: right;\">\n",
       "      <th></th>\n",
       "      <th>key</th>\n",
       "      <th>count</th>\n",
       "    </tr>\n",
       "  </thead>\n",
       "  <tbody>\n",
       "    <tr>\n",
       "      <th>375</th>\n",
       "      <td>Physics</td>\n",
       "      <td>763</td>\n",
       "    </tr>\n",
       "    <tr>\n",
       "      <th>157</th>\n",
       "      <td>Particle physics</td>\n",
       "      <td>672</td>\n",
       "    </tr>\n",
       "    <tr>\n",
       "      <th>145</th>\n",
       "      <td>Large Hadron Collider</td>\n",
       "      <td>640</td>\n",
       "    </tr>\n",
       "    <tr>\n",
       "      <th>409</th>\n",
       "      <td>Nuclear physics</td>\n",
       "      <td>493</td>\n",
       "    </tr>\n",
       "    <tr>\n",
       "      <th>81</th>\n",
       "      <td>Standard Model</td>\n",
       "      <td>302</td>\n",
       "    </tr>\n",
       "    <tr>\n",
       "      <th>374</th>\n",
       "      <td>Lepton</td>\n",
       "      <td>249</td>\n",
       "    </tr>\n",
       "    <tr>\n",
       "      <th>161</th>\n",
       "      <td>Quark</td>\n",
       "      <td>195</td>\n",
       "    </tr>\n",
       "    <tr>\n",
       "      <th>275</th>\n",
       "      <td>Muon</td>\n",
       "      <td>195</td>\n",
       "    </tr>\n",
       "    <tr>\n",
       "      <th>158</th>\n",
       "      <td>Luminosity (scattering theory)</td>\n",
       "      <td>192</td>\n",
       "    </tr>\n",
       "    <tr>\n",
       "      <th>213</th>\n",
       "      <td>Higgs boson</td>\n",
       "      <td>184</td>\n",
       "    </tr>\n",
       "    <tr>\n",
       "      <th>272</th>\n",
       "      <td>Boson</td>\n",
       "      <td>184</td>\n",
       "    </tr>\n",
       "    <tr>\n",
       "      <th>192</th>\n",
       "      <td>Top quark</td>\n",
       "      <td>146</td>\n",
       "    </tr>\n",
       "    <tr>\n",
       "      <th>61</th>\n",
       "      <td>Pair production</td>\n",
       "      <td>136</td>\n",
       "    </tr>\n",
       "    <tr>\n",
       "      <th>331</th>\n",
       "      <td>Branching fraction</td>\n",
       "      <td>134</td>\n",
       "    </tr>\n",
       "    <tr>\n",
       "      <th>292</th>\n",
       "      <td>Hadron</td>\n",
       "      <td>122</td>\n",
       "    </tr>\n",
       "    <tr>\n",
       "      <th>263</th>\n",
       "      <td>Proton</td>\n",
       "      <td>122</td>\n",
       "    </tr>\n",
       "    <tr>\n",
       "      <th>123</th>\n",
       "      <td>Quantum chromodynamics</td>\n",
       "      <td>120</td>\n",
       "    </tr>\n",
       "    <tr>\n",
       "      <th>87</th>\n",
       "      <td>Rapidity</td>\n",
       "      <td>105</td>\n",
       "    </tr>\n",
       "    <tr>\n",
       "      <th>146</th>\n",
       "      <td>Bottom quark</td>\n",
       "      <td>100</td>\n",
       "    </tr>\n",
       "    <tr>\n",
       "      <th>69</th>\n",
       "      <td>Supersymmetry</td>\n",
       "      <td>98</td>\n",
       "    </tr>\n",
       "    <tr>\n",
       "      <th>391</th>\n",
       "      <td>Compact Muon Solenoid</td>\n",
       "      <td>97</td>\n",
       "    </tr>\n",
       "    <tr>\n",
       "      <th>278</th>\n",
       "      <td>Physics beyond the Standard Model</td>\n",
       "      <td>80</td>\n",
       "    </tr>\n",
       "    <tr>\n",
       "      <th>396</th>\n",
       "      <td>Pseudorapidity</td>\n",
       "      <td>70</td>\n",
       "    </tr>\n",
       "    <tr>\n",
       "      <th>251</th>\n",
       "      <td>Invariant mass</td>\n",
       "      <td>67</td>\n",
       "    </tr>\n",
       "    <tr>\n",
       "      <th>388</th>\n",
       "      <td>Jet (particle physics)</td>\n",
       "      <td>67</td>\n",
       "    </tr>\n",
       "    <tr>\n",
       "      <th>28</th>\n",
       "      <td>Electroweak interaction</td>\n",
       "      <td>59</td>\n",
       "    </tr>\n",
       "    <tr>\n",
       "      <th>365</th>\n",
       "      <td>Parton</td>\n",
       "      <td>56</td>\n",
       "    </tr>\n",
       "    <tr>\n",
       "      <th>264</th>\n",
       "      <td>Neutralino</td>\n",
       "      <td>51</td>\n",
       "    </tr>\n",
       "    <tr>\n",
       "      <th>185</th>\n",
       "      <td>Vector boson</td>\n",
       "      <td>49</td>\n",
       "    </tr>\n",
       "    <tr>\n",
       "      <th>277</th>\n",
       "      <td>Cross section (physics)</td>\n",
       "      <td>48</td>\n",
       "    </tr>\n",
       "    <tr>\n",
       "      <th>416</th>\n",
       "      <td>Neutrino</td>\n",
       "      <td>46</td>\n",
       "    </tr>\n",
       "    <tr>\n",
       "      <th>140</th>\n",
       "      <td>Charged particle</td>\n",
       "      <td>44</td>\n",
       "    </tr>\n",
       "    <tr>\n",
       "      <th>35</th>\n",
       "      <td>Meson</td>\n",
       "      <td>43</td>\n",
       "    </tr>\n",
       "    <tr>\n",
       "      <th>137</th>\n",
       "      <td>Photon</td>\n",
       "      <td>42</td>\n",
       "    </tr>\n",
       "    <tr>\n",
       "      <th>113</th>\n",
       "      <td>Production (computer science)</td>\n",
       "      <td>38</td>\n",
       "    </tr>\n",
       "    <tr>\n",
       "      <th>334</th>\n",
       "      <td>Gluino</td>\n",
       "      <td>37</td>\n",
       "    </tr>\n",
       "    <tr>\n",
       "      <th>5</th>\n",
       "      <td>Quark–gluon plasma</td>\n",
       "      <td>36</td>\n",
       "    </tr>\n",
       "    <tr>\n",
       "      <th>132</th>\n",
       "      <td>Gluon</td>\n",
       "      <td>36</td>\n",
       "    </tr>\n",
       "    <tr>\n",
       "      <th>57</th>\n",
       "      <td>Electron</td>\n",
       "      <td>32</td>\n",
       "    </tr>\n",
       "    <tr>\n",
       "      <th>124</th>\n",
       "      <td>Massless particle</td>\n",
       "      <td>31</td>\n",
       "    </tr>\n",
       "    <tr>\n",
       "      <th>221</th>\n",
       "      <td>Dark matter</td>\n",
       "      <td>27</td>\n",
       "    </tr>\n",
       "    <tr>\n",
       "      <th>306</th>\n",
       "      <td>Jet (fluid)</td>\n",
       "      <td>25</td>\n",
       "    </tr>\n",
       "    <tr>\n",
       "      <th>260</th>\n",
       "      <td>Detector</td>\n",
       "      <td>25</td>\n",
       "    </tr>\n",
       "    <tr>\n",
       "      <th>27</th>\n",
       "      <td>Monte Carlo method</td>\n",
       "      <td>25</td>\n",
       "    </tr>\n",
       "    <tr>\n",
       "      <th>254</th>\n",
       "      <td>Perturbative QCD</td>\n",
       "      <td>25</td>\n",
       "    </tr>\n",
       "    <tr>\n",
       "      <th>180</th>\n",
       "      <td>Gauge boson</td>\n",
       "      <td>24</td>\n",
       "    </tr>\n",
       "    <tr>\n",
       "      <th>74</th>\n",
       "      <td>Context (language use)</td>\n",
       "      <td>24</td>\n",
       "    </tr>\n",
       "    <tr>\n",
       "      <th>224</th>\n",
       "      <td>Fermion</td>\n",
       "      <td>22</td>\n",
       "    </tr>\n",
       "    <tr>\n",
       "      <th>65</th>\n",
       "      <td>Transverse momentum</td>\n",
       "      <td>22</td>\n",
       "    </tr>\n",
       "    <tr>\n",
       "      <th>303</th>\n",
       "      <td>Pseudoscalar</td>\n",
       "      <td>22</td>\n",
       "    </tr>\n",
       "  </tbody>\n",
       "</table>\n",
       "</div>"
      ],
      "text/plain": [
       "                                   key  count\n",
       "375                            Physics    763\n",
       "157                   Particle physics    672\n",
       "145              Large Hadron Collider    640\n",
       "409                    Nuclear physics    493\n",
       "81                      Standard Model    302\n",
       "374                             Lepton    249\n",
       "161                              Quark    195\n",
       "275                               Muon    195\n",
       "158     Luminosity (scattering theory)    192\n",
       "213                        Higgs boson    184\n",
       "272                              Boson    184\n",
       "192                          Top quark    146\n",
       "61                     Pair production    136\n",
       "331                 Branching fraction    134\n",
       "292                             Hadron    122\n",
       "263                             Proton    122\n",
       "123             Quantum chromodynamics    120\n",
       "87                            Rapidity    105\n",
       "146                       Bottom quark    100\n",
       "69                       Supersymmetry     98\n",
       "391              Compact Muon Solenoid     97\n",
       "278  Physics beyond the Standard Model     80\n",
       "396                     Pseudorapidity     70\n",
       "251                     Invariant mass     67\n",
       "388             Jet (particle physics)     67\n",
       "28             Electroweak interaction     59\n",
       "365                             Parton     56\n",
       "264                         Neutralino     51\n",
       "185                       Vector boson     49\n",
       "277            Cross section (physics)     48\n",
       "416                           Neutrino     46\n",
       "140                   Charged particle     44\n",
       "35                               Meson     43\n",
       "137                             Photon     42\n",
       "113      Production (computer science)     38\n",
       "334                             Gluino     37\n",
       "5                   Quark–gluon plasma     36\n",
       "132                              Gluon     36\n",
       "57                            Electron     32\n",
       "124                  Massless particle     31\n",
       "221                        Dark matter     27\n",
       "306                        Jet (fluid)     25\n",
       "260                           Detector     25\n",
       "27                  Monte Carlo method     25\n",
       "254                   Perturbative QCD     25\n",
       "180                        Gauge boson     24\n",
       "74              Context (language use)     24\n",
       "224                            Fermion     22\n",
       "65                 Transverse momentum     22\n",
       "303                       Pseudoscalar     22"
      ]
     },
     "execution_count": 30,
     "metadata": {},
     "output_type": "execute_result"
    }
   ],
   "source": [
    "lf=kk[row].sum()\n",
    "lfu=list(set( kk[row].sum() ))\n",
    "pd.DataFrame(data=zip( lfu, [ lf.count(l) for l in lfu  ] ),columns=['key','count'] ).sort_values('count',ascending=False)[:50]"
   ]
  },
  {
   "cell_type": "code",
   "execution_count": null,
   "metadata": {},
   "outputs": [],
   "source": []
  },
  {
   "cell_type": "code",
   "execution_count": 52,
   "metadata": {},
   "outputs": [
    {
     "name": "stdout",
     "output_type": "stream",
     "text": [
      "Writing file.py\n"
     ]
    }
   ],
   "source": [
    "%%writefile file.py\n",
    "1+1"
   ]
  },
  {
   "cell_type": "code",
   "execution_count": 53,
   "metadata": {},
   "outputs": [
    {
     "name": "stdout",
     "output_type": "stream",
     "text": [
      "1+1\n"
     ]
    }
   ],
   "source": [
    "cat file.py"
   ]
  },
  {
   "cell_type": "code",
   "execution_count": null,
   "metadata": {},
   "outputs": [],
   "source": []
  }
 ],
 "metadata": {
  "kernelspec": {
   "display_name": "Python 3 (ipykernel)",
   "language": "python",
   "name": "python3"
  },
  "language_info": {
   "codemirror_mode": {
    "name": "ipython",
    "version": 3
   },
   "file_extension": ".py",
   "mimetype": "text/x-python",
   "name": "python",
   "nbconvert_exporter": "python",
   "pygments_lexer": "ipython3",
   "version": "3.7.3"
  }
 },
 "nbformat": 4,
 "nbformat_minor": 4
}

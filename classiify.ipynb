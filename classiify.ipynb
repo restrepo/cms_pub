{
 "cells": [
  {
   "cell_type": "markdown",
   "metadata": {},
   "source": [
    "# Machine learning classifier for CMS publications\n",
    "We use the CMS publications with the manual defined categories at:\n",
    "\n",
    "https://cms-results.web.cern.ch/cms-results/public-results/publications/\n",
    "\n",
    "to predict the category of a new CMS publication.\n",
    "\n",
    "We will follow the `NaiveBayesClassifier` tutorial from `textblob` at:\n",
    "\n",
    "https://textblob.readthedocs.io/en/dev/classifiers.html#classifiers"
   ]
  },
  {
   "cell_type": "code",
   "execution_count": 1,
   "metadata": {},
   "outputs": [
    {
     "name": "stderr",
     "output_type": "stream",
     "text": [
      "[nltk_data] Downloading package stopwords to\n",
      "[nltk_data]     /home/restrepo/nltk_data...\n",
      "[nltk_data]   Package stopwords is already up-to-date!\n",
      "[nltk_data] Downloading package punkt to /home/restrepo/nltk_data...\n",
      "[nltk_data]   Package punkt is already up-to-date!\n"
     ]
    },
    {
     "data": {
      "text/plain": [
       "True"
      ]
     },
     "execution_count": 1,
     "metadata": {},
     "output_type": "execute_result"
    }
   ],
   "source": [
    "import pandas as pd\n",
    "import nltk\n",
    "from nltk.corpus import stopwords\n",
    "nltk.download('stopwords')\n",
    "from textblob.classifiers import NaiveBayesClassifier\n",
    "nltk.download('punkt')  "
   ]
  },
  {
   "cell_type": "markdown",
   "metadata": {},
   "source": [
    "Load the data and prepare the training data set based in the title+abstract of each publication and the assigned category: `'CTG'`"
   ]
  },
  {
   "cell_type": "code",
   "execution_count": 2,
   "metadata": {},
   "outputs": [],
   "source": [
    "df=pd.read_json('https://raw.githubusercontent.com/restrepo/cms_pub/main/cms.json')"
   ]
  },
  {
   "cell_type": "markdown",
   "metadata": {},
   "source": [
    "Sample of the data"
   ]
  },
  {
   "cell_type": "code",
   "execution_count": 3,
   "metadata": {},
   "outputs": [
    {
     "data": {
      "text/html": [
       "<div>\n",
       "<style scoped>\n",
       "    .dataframe tbody tr th:only-of-type {\n",
       "        vertical-align: middle;\n",
       "    }\n",
       "\n",
       "    .dataframe tbody tr th {\n",
       "        vertical-align: top;\n",
       "    }\n",
       "\n",
       "    .dataframe thead th {\n",
       "        text-align: right;\n",
       "    }\n",
       "</style>\n",
       "<table border=\"1\" class=\"dataframe\">\n",
       "  <thead>\n",
       "    <tr style=\"text-align: right;\">\n",
       "      <th></th>\n",
       "      <th>CMS_id</th>\n",
       "      <th>report</th>\n",
       "      <th>title</th>\n",
       "      <th>journal</th>\n",
       "      <th>date</th>\n",
       "      <th>CTG</th>\n",
       "      <th>category</th>\n",
       "      <th>inspire_id</th>\n",
       "      <th>abstract</th>\n",
       "    </tr>\n",
       "  </thead>\n",
       "  <tbody>\n",
       "    <tr>\n",
       "      <th>0</th>\n",
       "      <td>58</td>\n",
       "      <td>FSQ-16-006</td>\n",
       "      <td>Study of central exclusive $\\pi^{+}\\pi^{-}$ pr...</td>\n",
       "      <td>EPJC 80 (2020) 718</td>\n",
       "      <td>2020-03-05</td>\n",
       "      <td>FSQ</td>\n",
       "      <td>Forward and Small-x QCD Physics</td>\n",
       "      <td>1784063</td>\n",
       "      <td>Central exclusive and semiexclusive production...</td>\n",
       "    </tr>\n",
       "    <tr>\n",
       "      <th>1</th>\n",
       "      <td>57</td>\n",
       "      <td>FSQ-12-033</td>\n",
       "      <td>Measurement of single-diffractive dijet produc...</td>\n",
       "      <td>EPJC 80, 1164 (2020)</td>\n",
       "      <td>2020-02-27</td>\n",
       "      <td>FSQ</td>\n",
       "      <td>Forward and Small-x QCD Physics</td>\n",
       "      <td>1782637</td>\n",
       "      <td>Measurements are presented of the single-diffr...</td>\n",
       "    </tr>\n",
       "  </tbody>\n",
       "</table>\n",
       "</div>"
      ],
      "text/plain": [
       "   CMS_id      report                                              title  \\\n",
       "0      58  FSQ-16-006  Study of central exclusive $\\pi^{+}\\pi^{-}$ pr...   \n",
       "1      57  FSQ-12-033  Measurement of single-diffractive dijet produc...   \n",
       "\n",
       "                journal       date  CTG                         category  \\\n",
       "0    EPJC 80 (2020) 718 2020-03-05  FSQ  Forward and Small-x QCD Physics   \n",
       "1  EPJC 80, 1164 (2020) 2020-02-27  FSQ  Forward and Small-x QCD Physics   \n",
       "\n",
       "  inspire_id                                           abstract  \n",
       "0    1784063  Central exclusive and semiexclusive production...  \n",
       "1    1782637  Measurements are presented of the single-diffr...  "
      ]
     },
     "execution_count": 3,
     "metadata": {},
     "output_type": "execute_result"
    }
   ],
   "source": [
    "df[:2]"
   ]
  },
  {
   "cell_type": "markdown",
   "metadata": {},
   "source": [
    "Prepare the data"
   ]
  },
  {
   "cell_type": "code",
   "execution_count": 4,
   "metadata": {},
   "outputs": [
    {
     "name": "stdout",
     "output_type": "stream",
     "text": [
      "total publication count: (912, 10)\n"
     ]
    }
   ],
   "source": [
    "df=df[df['abstract'].fillna('')!=''].reset_index(drop=True)\n",
    "df['text']=df['title']+' '+df['abstract']\n",
    "df=df.rename({'CTG':'label'},axis='columns')\n",
    "\n",
    "stop_words=stopwords.words()\n",
    "def simplify(text,stop_words=stop_words):\n",
    "    text_tokens = text.replace(\"  \",\" \").split()\n",
    "    filtered_words = [w for w in text_tokens if not w in stop_words]    \n",
    "    return \" \".join(filtered_words).lower()\n",
    "\n",
    "df['text']=df['text'].apply(simplify)\n",
    "\n",
    "print('total publication count:',df.shape)"
   ]
  },
  {
   "cell_type": "markdown",
   "metadata": {},
   "source": [
    "shuffle the DataFrame"
   ]
  },
  {
   "cell_type": "code",
   "execution_count": 5,
   "metadata": {},
   "outputs": [],
   "source": [
    "dfr=df.sample(df.shape[0])"
   ]
  },
  {
   "cell_type": "markdown",
   "metadata": {},
   "source": [
    "Calculate the accuracy of the trained data set, `train`, with the `test` one"
   ]
  },
  {
   "cell_type": "code",
   "execution_count": 6,
   "metadata": {},
   "outputs": [
    {
     "name": "stdout",
     "output_type": "stream",
     "text": [
      "accuracy →  0.85\n"
     ]
    }
   ],
   "source": [
    "n_train=800\n",
    "train=dfr[['text','label']][:n_train].reset_index(drop=True)\n",
    "test =dfr[['text','label']][n_train:].reset_index(drop=True)\n",
    "\n",
    "#Obtain the classifier with the `train` data set\n",
    "cl = NaiveBayesClassifier(  \n",
    "    [ (d.get('text'),d.get('label')) for d in train.to_dict(orient='records')]  )\n",
    "\n",
    "# Check the accuracy of the classifier with the `test` dataset\n",
    "print('accuracy → ',\n",
    "      round( cl.accuracy( [ (d.get('text'),d.get('label')) for d in test.to_dict(orient='records')] ),2)\n",
    "     )"
   ]
  },
  {
   "cell_type": "markdown",
   "metadata": {},
   "source": [
    "Partial accuracies: there are several at the 90% level. Those would correspond to well defined categories"
   ]
  },
  {
   "cell_type": "code",
   "execution_count": 7,
   "metadata": {},
   "outputs": [
    {
     "name": "stdout",
     "output_type": "stream",
     "text": [
      "SUS → 1.0  samples → 11\n",
      "EXO → 0.96  samples → 23\n",
      "TOP → 0.82  samples → 17\n",
      "HIN → 0.75  samples → 16\n",
      "FSQ → 0.38  samples → 8\n",
      "SMP → 1.0  samples → 13\n",
      "HIG → 0.93  samples → 15\n",
      "B2G → 0.4  samples → 5\n",
      "BPH → 1.0  samples → 4\n"
     ]
    }
   ],
   "source": [
    "for c in test['label'].unique():\n",
    "    print(c,'→',\n",
    "          round(cl.accuracy( [ (d.get('text'),d.get('label')) for d in test[test['label']==c].to_dict(orient='records')]),2),\n",
    "          f\" samples → {test[test['label']==c].shape[0]}\")"
   ]
  },
  {
   "cell_type": "markdown",
   "metadata": {},
   "source": [
    "Check explicit results including the probability"
   ]
  },
  {
   "cell_type": "code",
   "execution_count": 8,
   "metadata": {},
   "outputs": [],
   "source": [
    "fulltest=test.copy()\n",
    "fulltest['test']=fulltest['text'].apply(cl.classify)\n",
    "\n",
    "fulltest['prob']=fulltest['text'].apply(lambda t:   \n",
    "                                cl.prob_classify( t ).prob(   cl.classify( t  )  ) ).round(2)"
   ]
  },
  {
   "cell_type": "markdown",
   "metadata": {},
   "source": [
    "Show the ones that failed.\n",
    "The following categories are expected to be mixed between them\n",
    "\n",
    "* `[B2G,EXO,SUS]`\n",
    "* `[HIG,TOP,SMP,FSQ]`\n",
    "\n",
    "In this way, the errors are easy to understand. \n",
    "\n",
    "__Hypothesis__: The network analysis would have this failed publications in the frontiers of the clusters."
   ]
  },
  {
   "cell_type": "code",
   "execution_count": 9,
   "metadata": {},
   "outputs": [
    {
     "data": {
      "text/html": [
       "<div>\n",
       "<style scoped>\n",
       "    .dataframe tbody tr th:only-of-type {\n",
       "        vertical-align: middle;\n",
       "    }\n",
       "\n",
       "    .dataframe tbody tr th {\n",
       "        vertical-align: top;\n",
       "    }\n",
       "\n",
       "    .dataframe thead th {\n",
       "        text-align: right;\n",
       "    }\n",
       "</style>\n",
       "<table border=\"1\" class=\"dataframe\">\n",
       "  <thead>\n",
       "    <tr style=\"text-align: right;\">\n",
       "      <th></th>\n",
       "      <th>text</th>\n",
       "      <th>label</th>\n",
       "      <th>test</th>\n",
       "      <th>prob</th>\n",
       "    </tr>\n",
       "  </thead>\n",
       "  <tbody>\n",
       "    <tr>\n",
       "      <th>3</th>\n",
       "      <td>${\\upsilon\\mathrm{(ns)}}$ polarizations versus...</td>\n",
       "      <td>HIN</td>\n",
       "      <td>BPH</td>\n",
       "      <td>1.00</td>\n",
       "    </tr>\n",
       "    <tr>\n",
       "      <th>11</th>\n",
       "      <td>observation top quark production proton-nucleu...</td>\n",
       "      <td>HIN</td>\n",
       "      <td>TOP</td>\n",
       "      <td>1.00</td>\n",
       "    </tr>\n",
       "    <tr>\n",
       "      <th>20</th>\n",
       "      <td>search two higgs bosons final states containin...</td>\n",
       "      <td>HIG</td>\n",
       "      <td>EXO</td>\n",
       "      <td>1.00</td>\n",
       "    </tr>\n",
       "    <tr>\n",
       "      <th>24</th>\n",
       "      <td>search heavy resonances decaying two higgs bos...</td>\n",
       "      <td>EXO</td>\n",
       "      <td>B2G</td>\n",
       "      <td>0.82</td>\n",
       "    </tr>\n",
       "    <tr>\n",
       "      <th>27</th>\n",
       "      <td>search $s$ channel single top quark production...</td>\n",
       "      <td>TOP</td>\n",
       "      <td>HIG</td>\n",
       "      <td>0.99</td>\n",
       "    </tr>\n",
       "    <tr>\n",
       "      <th>29</th>\n",
       "      <td>measurement four-jet production proton-proton ...</td>\n",
       "      <td>FSQ</td>\n",
       "      <td>SMP</td>\n",
       "      <td>1.00</td>\n",
       "    </tr>\n",
       "    <tr>\n",
       "      <th>39</th>\n",
       "      <td>measurement underlying event activity inclusiv...</td>\n",
       "      <td>FSQ</td>\n",
       "      <td>SMP</td>\n",
       "      <td>1.00</td>\n",
       "    </tr>\n",
       "    <tr>\n",
       "      <th>41</th>\n",
       "      <td>study bose-einstein correlations pp, ppb, pbpb...</td>\n",
       "      <td>FSQ</td>\n",
       "      <td>HIN</td>\n",
       "      <td>1.00</td>\n",
       "    </tr>\n",
       "    <tr>\n",
       "      <th>51</th>\n",
       "      <td>measurement differential cross sections top qu...</td>\n",
       "      <td>TOP</td>\n",
       "      <td>SMP</td>\n",
       "      <td>0.83</td>\n",
       "    </tr>\n",
       "    <tr>\n",
       "      <th>55</th>\n",
       "      <td>coherent $\\mathrm{ j } / \\psi $ photoproductio...</td>\n",
       "      <td>HIN</td>\n",
       "      <td>SMP</td>\n",
       "      <td>0.81</td>\n",
       "    </tr>\n",
       "    <tr>\n",
       "      <th>62</th>\n",
       "      <td>measurement inclusive energy spectrum forward ...</td>\n",
       "      <td>FSQ</td>\n",
       "      <td>SMP</td>\n",
       "      <td>0.67</td>\n",
       "    </tr>\n",
       "    <tr>\n",
       "      <th>66</th>\n",
       "      <td>measurement bose–einstein correlations pp coll...</td>\n",
       "      <td>FSQ</td>\n",
       "      <td>SMP</td>\n",
       "      <td>0.98</td>\n",
       "    </tr>\n",
       "    <tr>\n",
       "      <th>88</th>\n",
       "      <td>search associated production z boson single to...</td>\n",
       "      <td>TOP</td>\n",
       "      <td>HIG</td>\n",
       "      <td>1.00</td>\n",
       "    </tr>\n",
       "    <tr>\n",
       "      <th>90</th>\n",
       "      <td>study z boson production ppb collisions $\\sqrt...</td>\n",
       "      <td>HIN</td>\n",
       "      <td>SMP</td>\n",
       "      <td>1.00</td>\n",
       "    </tr>\n",
       "    <tr>\n",
       "      <th>93</th>\n",
       "      <td>search massive resonances decaying ww, wz zz b...</td>\n",
       "      <td>B2G</td>\n",
       "      <td>EXO</td>\n",
       "      <td>1.00</td>\n",
       "    </tr>\n",
       "    <tr>\n",
       "      <th>102</th>\n",
       "      <td>search third-generation scalar leptoquarks dec...</td>\n",
       "      <td>B2G</td>\n",
       "      <td>EXO</td>\n",
       "      <td>1.00</td>\n",
       "    </tr>\n",
       "    <tr>\n",
       "      <th>109</th>\n",
       "      <td>search heavy resonances decaying vector boson ...</td>\n",
       "      <td>B2G</td>\n",
       "      <td>EXO</td>\n",
       "      <td>1.00</td>\n",
       "    </tr>\n",
       "  </tbody>\n",
       "</table>\n",
       "</div>"
      ],
      "text/plain": [
       "                                                  text label test  prob\n",
       "3    ${\\upsilon\\mathrm{(ns)}}$ polarizations versus...   HIN  BPH  1.00\n",
       "11   observation top quark production proton-nucleu...   HIN  TOP  1.00\n",
       "20   search two higgs bosons final states containin...   HIG  EXO  1.00\n",
       "24   search heavy resonances decaying two higgs bos...   EXO  B2G  0.82\n",
       "27   search $s$ channel single top quark production...   TOP  HIG  0.99\n",
       "29   measurement four-jet production proton-proton ...   FSQ  SMP  1.00\n",
       "39   measurement underlying event activity inclusiv...   FSQ  SMP  1.00\n",
       "41   study bose-einstein correlations pp, ppb, pbpb...   FSQ  HIN  1.00\n",
       "51   measurement differential cross sections top qu...   TOP  SMP  0.83\n",
       "55   coherent $\\mathrm{ j } / \\psi $ photoproductio...   HIN  SMP  0.81\n",
       "62   measurement inclusive energy spectrum forward ...   FSQ  SMP  0.67\n",
       "66   measurement bose–einstein correlations pp coll...   FSQ  SMP  0.98\n",
       "88   search associated production z boson single to...   TOP  HIG  1.00\n",
       "90   study z boson production ppb collisions $\\sqrt...   HIN  SMP  1.00\n",
       "93   search massive resonances decaying ww, wz zz b...   B2G  EXO  1.00\n",
       "102  search third-generation scalar leptoquarks dec...   B2G  EXO  1.00\n",
       "109  search heavy resonances decaying vector boson ...   B2G  EXO  1.00"
      ]
     },
     "execution_count": 9,
     "metadata": {},
     "output_type": "execute_result"
    }
   ],
   "source": [
    "fulltest[fulltest['label']!=fulltest['test']]"
   ]
  }
 ],
 "metadata": {
  "kernelspec": {
   "display_name": "Python 3 (ipykernel)",
   "language": "python",
   "name": "python3"
  },
  "language_info": {
   "codemirror_mode": {
    "name": "ipython",
    "version": 3
   },
   "file_extension": ".py",
   "mimetype": "text/x-python",
   "name": "python",
   "nbconvert_exporter": "python",
   "pygments_lexer": "ipython3",
   "version": "3.7.3"
  }
 },
 "nbformat": 4,
 "nbformat_minor": 4
}
